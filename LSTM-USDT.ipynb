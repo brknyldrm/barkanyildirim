{
  "nbformat": 4,
  "nbformat_minor": 0,
  "metadata": {
    "colab": {
      "provenance": []
    },
    "kernelspec": {
      "name": "python3",
      "display_name": "Python 3"
    },
    "language_info": {
      "name": "python"
    }
  },
  "cells": [
    {
      "cell_type": "code",
      "metadata": {
        "id": "NQ5fHC1xWTUC"
      },
      "source": [
        "import math\n",
        "import pandas as pd\n",
        "import numpy as np\n",
        "import matplotlib.pyplot as plt\n",
        "from sklearn.preprocessing import MinMaxScaler\n",
        "from keras.models import Sequential\n",
        "from keras.layers import Dense, LSTM\n",
        "plt.style.use('fivethirtyeight')\n",
        "\n"
      ],
      "execution_count": 39,
      "outputs": []
    },
    {
      "cell_type": "code",
      "source": [
        "from google.colab import files\n",
        "uploaded = files.upload()"
      ],
      "metadata": {
        "colab": {
          "base_uri": "https://localhost:8080/",
          "height": 73
        },
        "id": "oodFcgMv105U",
        "outputId": "69cc7497-2bcc-4d43-fd65-17411f7074f2"
      },
      "execution_count": 40,
      "outputs": [
        {
          "output_type": "display_data",
          "data": {
            "text/plain": [
              "<IPython.core.display.HTML object>"
            ],
            "text/html": [
              "\n",
              "     <input type=\"file\" id=\"files-26397190-98f2-4a3c-bfc0-df3f86dc2d41\" name=\"files[]\" multiple disabled\n",
              "        style=\"border:none\" />\n",
              "     <output id=\"result-26397190-98f2-4a3c-bfc0-df3f86dc2d41\">\n",
              "      Upload widget is only available when the cell has been executed in the\n",
              "      current browser session. Please rerun this cell to enable.\n",
              "      </output>\n",
              "      <script>// Copyright 2017 Google LLC\n",
              "//\n",
              "// Licensed under the Apache License, Version 2.0 (the \"License\");\n",
              "// you may not use this file except in compliance with the License.\n",
              "// You may obtain a copy of the License at\n",
              "//\n",
              "//      http://www.apache.org/licenses/LICENSE-2.0\n",
              "//\n",
              "// Unless required by applicable law or agreed to in writing, software\n",
              "// distributed under the License is distributed on an \"AS IS\" BASIS,\n",
              "// WITHOUT WARRANTIES OR CONDITIONS OF ANY KIND, either express or implied.\n",
              "// See the License for the specific language governing permissions and\n",
              "// limitations under the License.\n",
              "\n",
              "/**\n",
              " * @fileoverview Helpers for google.colab Python module.\n",
              " */\n",
              "(function(scope) {\n",
              "function span(text, styleAttributes = {}) {\n",
              "  const element = document.createElement('span');\n",
              "  element.textContent = text;\n",
              "  for (const key of Object.keys(styleAttributes)) {\n",
              "    element.style[key] = styleAttributes[key];\n",
              "  }\n",
              "  return element;\n",
              "}\n",
              "\n",
              "// Max number of bytes which will be uploaded at a time.\n",
              "const MAX_PAYLOAD_SIZE = 100 * 1024;\n",
              "\n",
              "function _uploadFiles(inputId, outputId) {\n",
              "  const steps = uploadFilesStep(inputId, outputId);\n",
              "  const outputElement = document.getElementById(outputId);\n",
              "  // Cache steps on the outputElement to make it available for the next call\n",
              "  // to uploadFilesContinue from Python.\n",
              "  outputElement.steps = steps;\n",
              "\n",
              "  return _uploadFilesContinue(outputId);\n",
              "}\n",
              "\n",
              "// This is roughly an async generator (not supported in the browser yet),\n",
              "// where there are multiple asynchronous steps and the Python side is going\n",
              "// to poll for completion of each step.\n",
              "// This uses a Promise to block the python side on completion of each step,\n",
              "// then passes the result of the previous step as the input to the next step.\n",
              "function _uploadFilesContinue(outputId) {\n",
              "  const outputElement = document.getElementById(outputId);\n",
              "  const steps = outputElement.steps;\n",
              "\n",
              "  const next = steps.next(outputElement.lastPromiseValue);\n",
              "  return Promise.resolve(next.value.promise).then((value) => {\n",
              "    // Cache the last promise value to make it available to the next\n",
              "    // step of the generator.\n",
              "    outputElement.lastPromiseValue = value;\n",
              "    return next.value.response;\n",
              "  });\n",
              "}\n",
              "\n",
              "/**\n",
              " * Generator function which is called between each async step of the upload\n",
              " * process.\n",
              " * @param {string} inputId Element ID of the input file picker element.\n",
              " * @param {string} outputId Element ID of the output display.\n",
              " * @return {!Iterable<!Object>} Iterable of next steps.\n",
              " */\n",
              "function* uploadFilesStep(inputId, outputId) {\n",
              "  const inputElement = document.getElementById(inputId);\n",
              "  inputElement.disabled = false;\n",
              "\n",
              "  const outputElement = document.getElementById(outputId);\n",
              "  outputElement.innerHTML = '';\n",
              "\n",
              "  const pickedPromise = new Promise((resolve) => {\n",
              "    inputElement.addEventListener('change', (e) => {\n",
              "      resolve(e.target.files);\n",
              "    });\n",
              "  });\n",
              "\n",
              "  const cancel = document.createElement('button');\n",
              "  inputElement.parentElement.appendChild(cancel);\n",
              "  cancel.textContent = 'Cancel upload';\n",
              "  const cancelPromise = new Promise((resolve) => {\n",
              "    cancel.onclick = () => {\n",
              "      resolve(null);\n",
              "    };\n",
              "  });\n",
              "\n",
              "  // Wait for the user to pick the files.\n",
              "  const files = yield {\n",
              "    promise: Promise.race([pickedPromise, cancelPromise]),\n",
              "    response: {\n",
              "      action: 'starting',\n",
              "    }\n",
              "  };\n",
              "\n",
              "  cancel.remove();\n",
              "\n",
              "  // Disable the input element since further picks are not allowed.\n",
              "  inputElement.disabled = true;\n",
              "\n",
              "  if (!files) {\n",
              "    return {\n",
              "      response: {\n",
              "        action: 'complete',\n",
              "      }\n",
              "    };\n",
              "  }\n",
              "\n",
              "  for (const file of files) {\n",
              "    const li = document.createElement('li');\n",
              "    li.append(span(file.name, {fontWeight: 'bold'}));\n",
              "    li.append(span(\n",
              "        `(${file.type || 'n/a'}) - ${file.size} bytes, ` +\n",
              "        `last modified: ${\n",
              "            file.lastModifiedDate ? file.lastModifiedDate.toLocaleDateString() :\n",
              "                                    'n/a'} - `));\n",
              "    const percent = span('0% done');\n",
              "    li.appendChild(percent);\n",
              "\n",
              "    outputElement.appendChild(li);\n",
              "\n",
              "    const fileDataPromise = new Promise((resolve) => {\n",
              "      const reader = new FileReader();\n",
              "      reader.onload = (e) => {\n",
              "        resolve(e.target.result);\n",
              "      };\n",
              "      reader.readAsArrayBuffer(file);\n",
              "    });\n",
              "    // Wait for the data to be ready.\n",
              "    let fileData = yield {\n",
              "      promise: fileDataPromise,\n",
              "      response: {\n",
              "        action: 'continue',\n",
              "      }\n",
              "    };\n",
              "\n",
              "    // Use a chunked sending to avoid message size limits. See b/62115660.\n",
              "    let position = 0;\n",
              "    do {\n",
              "      const length = Math.min(fileData.byteLength - position, MAX_PAYLOAD_SIZE);\n",
              "      const chunk = new Uint8Array(fileData, position, length);\n",
              "      position += length;\n",
              "\n",
              "      const base64 = btoa(String.fromCharCode.apply(null, chunk));\n",
              "      yield {\n",
              "        response: {\n",
              "          action: 'append',\n",
              "          file: file.name,\n",
              "          data: base64,\n",
              "        },\n",
              "      };\n",
              "\n",
              "      let percentDone = fileData.byteLength === 0 ?\n",
              "          100 :\n",
              "          Math.round((position / fileData.byteLength) * 100);\n",
              "      percent.textContent = `${percentDone}% done`;\n",
              "\n",
              "    } while (position < fileData.byteLength);\n",
              "  }\n",
              "\n",
              "  // All done.\n",
              "  yield {\n",
              "    response: {\n",
              "      action: 'complete',\n",
              "    }\n",
              "  };\n",
              "}\n",
              "\n",
              "scope.google = scope.google || {};\n",
              "scope.google.colab = scope.google.colab || {};\n",
              "scope.google.colab._files = {\n",
              "  _uploadFiles,\n",
              "  _uploadFilesContinue,\n",
              "};\n",
              "})(self);\n",
              "</script> "
            ]
          },
          "metadata": {}
        },
        {
          "output_type": "stream",
          "name": "stdout",
          "text": [
            "Saving USDT-USD.csv to USDT-USD.csv\n"
          ]
        }
      ]
    },
    {
      "cell_type": "code",
      "metadata": {
        "colab": {
          "base_uri": "https://localhost:8080/",
          "height": 455
        },
        "id": "eyuPFtS8asw8",
        "outputId": "5af269aa-b302-4c5a-8352-b57a04efb0fc"
      },
      "source": [
        "import io\n",
        "df = pd.read_csv(\"USDT-USD.csv\", index_col=0, parse_dates=True)\n",
        "df.shape\n",
        "df"
      ],
      "execution_count": 41,
      "outputs": [
        {
          "output_type": "execute_result",
          "data": {
            "text/plain": [
              "                Open      High       Low     Close  Adj Close       Volume\n",
              "Date                                                                      \n",
              "2017-11-09  1.010870  1.013270  0.996515  1.008180   1.008180    358188000\n",
              "2017-11-10  1.006500  1.024230  0.995486  1.006010   1.006010    756446016\n",
              "2017-11-11  1.005980  1.026210  0.995799  1.008990   1.008990    746227968\n",
              "2017-11-12  1.006020  1.105910  0.967601  1.012470   1.012470   1466060032\n",
              "2017-11-13  1.004480  1.029290  0.975103  1.009350   1.009350    767884032\n",
              "...              ...       ...       ...       ...        ...          ...\n",
              "2023-01-01  0.999680  0.999761  0.999567  0.999692   0.999692  11344984018\n",
              "2023-01-02  0.999688  0.999844  0.999621  0.999771   0.999771  16348780894\n",
              "2023-01-03  0.999783  0.999896  0.999722  0.999759   0.999759  18233713873\n",
              "2023-01-04  0.999751  0.999869  0.999721  0.999763   0.999763  24715975399\n",
              "2023-01-05  0.999755  0.999892  0.999748  0.999836   0.999836  21702629376\n",
              "\n",
              "[1884 rows x 6 columns]"
            ],
            "text/html": [
              "\n",
              "  <div id=\"df-79b53060-f332-4a91-ba3d-f918e6f3b72a\">\n",
              "    <div class=\"colab-df-container\">\n",
              "      <div>\n",
              "<style scoped>\n",
              "    .dataframe tbody tr th:only-of-type {\n",
              "        vertical-align: middle;\n",
              "    }\n",
              "\n",
              "    .dataframe tbody tr th {\n",
              "        vertical-align: top;\n",
              "    }\n",
              "\n",
              "    .dataframe thead th {\n",
              "        text-align: right;\n",
              "    }\n",
              "</style>\n",
              "<table border=\"1\" class=\"dataframe\">\n",
              "  <thead>\n",
              "    <tr style=\"text-align: right;\">\n",
              "      <th></th>\n",
              "      <th>Open</th>\n",
              "      <th>High</th>\n",
              "      <th>Low</th>\n",
              "      <th>Close</th>\n",
              "      <th>Adj Close</th>\n",
              "      <th>Volume</th>\n",
              "    </tr>\n",
              "    <tr>\n",
              "      <th>Date</th>\n",
              "      <th></th>\n",
              "      <th></th>\n",
              "      <th></th>\n",
              "      <th></th>\n",
              "      <th></th>\n",
              "      <th></th>\n",
              "    </tr>\n",
              "  </thead>\n",
              "  <tbody>\n",
              "    <tr>\n",
              "      <th>2017-11-09</th>\n",
              "      <td>1.010870</td>\n",
              "      <td>1.013270</td>\n",
              "      <td>0.996515</td>\n",
              "      <td>1.008180</td>\n",
              "      <td>1.008180</td>\n",
              "      <td>358188000</td>\n",
              "    </tr>\n",
              "    <tr>\n",
              "      <th>2017-11-10</th>\n",
              "      <td>1.006500</td>\n",
              "      <td>1.024230</td>\n",
              "      <td>0.995486</td>\n",
              "      <td>1.006010</td>\n",
              "      <td>1.006010</td>\n",
              "      <td>756446016</td>\n",
              "    </tr>\n",
              "    <tr>\n",
              "      <th>2017-11-11</th>\n",
              "      <td>1.005980</td>\n",
              "      <td>1.026210</td>\n",
              "      <td>0.995799</td>\n",
              "      <td>1.008990</td>\n",
              "      <td>1.008990</td>\n",
              "      <td>746227968</td>\n",
              "    </tr>\n",
              "    <tr>\n",
              "      <th>2017-11-12</th>\n",
              "      <td>1.006020</td>\n",
              "      <td>1.105910</td>\n",
              "      <td>0.967601</td>\n",
              "      <td>1.012470</td>\n",
              "      <td>1.012470</td>\n",
              "      <td>1466060032</td>\n",
              "    </tr>\n",
              "    <tr>\n",
              "      <th>2017-11-13</th>\n",
              "      <td>1.004480</td>\n",
              "      <td>1.029290</td>\n",
              "      <td>0.975103</td>\n",
              "      <td>1.009350</td>\n",
              "      <td>1.009350</td>\n",
              "      <td>767884032</td>\n",
              "    </tr>\n",
              "    <tr>\n",
              "      <th>...</th>\n",
              "      <td>...</td>\n",
              "      <td>...</td>\n",
              "      <td>...</td>\n",
              "      <td>...</td>\n",
              "      <td>...</td>\n",
              "      <td>...</td>\n",
              "    </tr>\n",
              "    <tr>\n",
              "      <th>2023-01-01</th>\n",
              "      <td>0.999680</td>\n",
              "      <td>0.999761</td>\n",
              "      <td>0.999567</td>\n",
              "      <td>0.999692</td>\n",
              "      <td>0.999692</td>\n",
              "      <td>11344984018</td>\n",
              "    </tr>\n",
              "    <tr>\n",
              "      <th>2023-01-02</th>\n",
              "      <td>0.999688</td>\n",
              "      <td>0.999844</td>\n",
              "      <td>0.999621</td>\n",
              "      <td>0.999771</td>\n",
              "      <td>0.999771</td>\n",
              "      <td>16348780894</td>\n",
              "    </tr>\n",
              "    <tr>\n",
              "      <th>2023-01-03</th>\n",
              "      <td>0.999783</td>\n",
              "      <td>0.999896</td>\n",
              "      <td>0.999722</td>\n",
              "      <td>0.999759</td>\n",
              "      <td>0.999759</td>\n",
              "      <td>18233713873</td>\n",
              "    </tr>\n",
              "    <tr>\n",
              "      <th>2023-01-04</th>\n",
              "      <td>0.999751</td>\n",
              "      <td>0.999869</td>\n",
              "      <td>0.999721</td>\n",
              "      <td>0.999763</td>\n",
              "      <td>0.999763</td>\n",
              "      <td>24715975399</td>\n",
              "    </tr>\n",
              "    <tr>\n",
              "      <th>2023-01-05</th>\n",
              "      <td>0.999755</td>\n",
              "      <td>0.999892</td>\n",
              "      <td>0.999748</td>\n",
              "      <td>0.999836</td>\n",
              "      <td>0.999836</td>\n",
              "      <td>21702629376</td>\n",
              "    </tr>\n",
              "  </tbody>\n",
              "</table>\n",
              "<p>1884 rows × 6 columns</p>\n",
              "</div>\n",
              "      <button class=\"colab-df-convert\" onclick=\"convertToInteractive('df-79b53060-f332-4a91-ba3d-f918e6f3b72a')\"\n",
              "              title=\"Convert this dataframe to an interactive table.\"\n",
              "              style=\"display:none;\">\n",
              "        \n",
              "  <svg xmlns=\"http://www.w3.org/2000/svg\" height=\"24px\"viewBox=\"0 0 24 24\"\n",
              "       width=\"24px\">\n",
              "    <path d=\"M0 0h24v24H0V0z\" fill=\"none\"/>\n",
              "    <path d=\"M18.56 5.44l.94 2.06.94-2.06 2.06-.94-2.06-.94-.94-2.06-.94 2.06-2.06.94zm-11 1L8.5 8.5l.94-2.06 2.06-.94-2.06-.94L8.5 2.5l-.94 2.06-2.06.94zm10 10l.94 2.06.94-2.06 2.06-.94-2.06-.94-.94-2.06-.94 2.06-2.06.94z\"/><path d=\"M17.41 7.96l-1.37-1.37c-.4-.4-.92-.59-1.43-.59-.52 0-1.04.2-1.43.59L10.3 9.45l-7.72 7.72c-.78.78-.78 2.05 0 2.83L4 21.41c.39.39.9.59 1.41.59.51 0 1.02-.2 1.41-.59l7.78-7.78 2.81-2.81c.8-.78.8-2.07 0-2.86zM5.41 20L4 18.59l7.72-7.72 1.47 1.35L5.41 20z\"/>\n",
              "  </svg>\n",
              "      </button>\n",
              "      \n",
              "  <style>\n",
              "    .colab-df-container {\n",
              "      display:flex;\n",
              "      flex-wrap:wrap;\n",
              "      gap: 12px;\n",
              "    }\n",
              "\n",
              "    .colab-df-convert {\n",
              "      background-color: #E8F0FE;\n",
              "      border: none;\n",
              "      border-radius: 50%;\n",
              "      cursor: pointer;\n",
              "      display: none;\n",
              "      fill: #1967D2;\n",
              "      height: 32px;\n",
              "      padding: 0 0 0 0;\n",
              "      width: 32px;\n",
              "    }\n",
              "\n",
              "    .colab-df-convert:hover {\n",
              "      background-color: #E2EBFA;\n",
              "      box-shadow: 0px 1px 2px rgba(60, 64, 67, 0.3), 0px 1px 3px 1px rgba(60, 64, 67, 0.15);\n",
              "      fill: #174EA6;\n",
              "    }\n",
              "\n",
              "    [theme=dark] .colab-df-convert {\n",
              "      background-color: #3B4455;\n",
              "      fill: #D2E3FC;\n",
              "    }\n",
              "\n",
              "    [theme=dark] .colab-df-convert:hover {\n",
              "      background-color: #434B5C;\n",
              "      box-shadow: 0px 1px 3px 1px rgba(0, 0, 0, 0.15);\n",
              "      filter: drop-shadow(0px 1px 2px rgba(0, 0, 0, 0.3));\n",
              "      fill: #FFFFFF;\n",
              "    }\n",
              "  </style>\n",
              "\n",
              "      <script>\n",
              "        const buttonEl =\n",
              "          document.querySelector('#df-79b53060-f332-4a91-ba3d-f918e6f3b72a button.colab-df-convert');\n",
              "        buttonEl.style.display =\n",
              "          google.colab.kernel.accessAllowed ? 'block' : 'none';\n",
              "\n",
              "        async function convertToInteractive(key) {\n",
              "          const element = document.querySelector('#df-79b53060-f332-4a91-ba3d-f918e6f3b72a');\n",
              "          const dataTable =\n",
              "            await google.colab.kernel.invokeFunction('convertToInteractive',\n",
              "                                                     [key], {});\n",
              "          if (!dataTable) return;\n",
              "\n",
              "          const docLinkHtml = 'Like what you see? Visit the ' +\n",
              "            '<a target=\"_blank\" href=https://colab.research.google.com/notebooks/data_table.ipynb>data table notebook</a>'\n",
              "            + ' to learn more about interactive tables.';\n",
              "          element.innerHTML = '';\n",
              "          dataTable['output_type'] = 'display_data';\n",
              "          await google.colab.output.renderOutput(dataTable, element);\n",
              "          const docLink = document.createElement('div');\n",
              "          docLink.innerHTML = docLinkHtml;\n",
              "          element.appendChild(docLink);\n",
              "        }\n",
              "      </script>\n",
              "    </div>\n",
              "  </div>\n",
              "  "
            ]
          },
          "metadata": {},
          "execution_count": 41
        }
      ]
    },
    {
      "cell_type": "code",
      "metadata": {
        "colab": {
          "base_uri": "https://localhost:8080/",
          "height": 575
        },
        "id": "oVEvK0nqbP83",
        "outputId": "02e9f8c7-63fe-4693-c587-f5e34a5ac32a"
      },
      "source": [
        "plt.figure(figsize=(16,8))\n",
        "plt.title(\"Kapanış Fiyatları\")\n",
        "plt.plot(df['Close'])\n",
        "plt.xlabel('Tarih', fontsize=18)\n",
        "plt.ylabel('ETH-USD Açılış Fiyatları', fontsize=18)\n"
      ],
      "execution_count": 42,
      "outputs": [
        {
          "output_type": "execute_result",
          "data": {
            "text/plain": [
              "Text(0, 0.5, 'ETH-USD Açılış Fiyatları')"
            ]
          },
          "metadata": {},
          "execution_count": 42
        },
        {
          "output_type": "display_data",
          "data": {
            "text/plain": [
              "<Figure size 1152x576 with 1 Axes>"
            ],
            "image/png": "[encoded data removed]"
          },
          "metadata": {}
        }
      ]
    },
    {
      "cell_type": "code",
      "metadata": {
        "colab": {
          "base_uri": "https://localhost:8080/"
        },
        "id": "YM8b2n6Sb-me",
        "outputId": "75953288-67b1-4216-e99a-311fce779d7a"
      },
      "source": [
        "data= df.filter(['Close'])\n",
        "dataset= data.values\n",
        "training_data_len = math.ceil(len(dataset) * .8)\n",
        "training_data_len"
      ],
      "execution_count": 43,
      "outputs": [
        {
          "output_type": "execute_result",
          "data": {
            "text/plain": [
              "1508"
            ]
          },
          "metadata": {},
          "execution_count": 43
        }
      ]
    },
    {
      "cell_type": "code",
      "metadata": {
        "colab": {
          "base_uri": "https://localhost:8080/"
        },
        "id": "shO16d2Hcd8U",
        "outputId": "fadfca7e-b4ce-47e5-c1a7-d34673cf91be"
      },
      "source": [
        "scaler = MinMaxScaler(feature_range=(0,1))\n",
        "scaled_data = scaler.fit_transform(dataset)\n",
        "scaled_data"
      ],
      "execution_count": 44,
      "outputs": [
        {
          "output_type": "execute_result",
          "data": {
            "text/plain": [
              "array([[0.37340429],\n",
              "       [0.35389622],\n",
              "       [0.38068611],\n",
              "       ...,\n",
              "       [0.29770038],\n",
              "       [0.29773634],\n",
              "       [0.29839261]])"
            ]
          },
          "metadata": {},
          "execution_count": 44
        }
      ]
    },
    {
      "cell_type": "code",
      "metadata": {
        "colab": {
          "base_uri": "https://localhost:8080/"
        },
        "id": "hxf599_wc-w_",
        "outputId": "e8ef784d-4c44-4d53-94eb-1bcc0f8ffec2"
      },
      "source": [
        "train_data = scaled_data[0:training_data_len,:]\n",
        "x_train = []\n",
        "y_train = []\n",
        "\n",
        "for i in range(60, len(train_data)):\n",
        "  x_train.append(train_data[i-60:i,0])\n",
        "  y_train.append(train_data[i,0])\n",
        "  if i <= 61:\n",
        "    print(x_train)\n",
        "    print(y_train)\n",
        "    print()"
      ],
      "execution_count": 45,
      "outputs": [
        {
          "output_type": "stream",
          "name": "stdout",
          "text": [
            "[array([0.37340429, 0.35389622, 0.38068611, 0.41197094, 0.38392247,\n",
            "       0.36126793, 0.32845482, 0.31892553, 0.3123629 , 0.32063361,\n",
            "       0.32180229, 0.31712755, 0.26432989, 0.30121543, 0.2516002 ,\n",
            "       0.32081341, 0.34850228, 0.37789924, 0.31146391, 0.30112553,\n",
            "       0.21541587, 0.3726851 , 0.38778813, 0.29675645, 0.30580028,\n",
            "       0.33285987, 0.31757704, 0.38895681, 0.58448704, 0.45808911,\n",
            "       0.45386386, 0.45943759, 0.46671941, 1.        , 0.54403251,\n",
            "       0.37349419, 0.44460426, 0.36657197, 0.38293358, 0.41691539,\n",
            "       0.39587903, 0.30148513, 0.38266389, 0.46123557, 0.70674961,\n",
            "       0.50690424, 0.39992448, 0.33645582, 0.33276997, 0.35911036,\n",
            "       0.35056996, 0.49180122, 0.41008307, 0.36531339, 0.34391744,\n",
            "       0.42069114, 0.32261138, 0.28758675, 0.38068611, 0.31398109])]\n",
            "[0.38365277428170863]\n",
            "\n",
            "[array([0.37340429, 0.35389622, 0.38068611, 0.41197094, 0.38392247,\n",
            "       0.36126793, 0.32845482, 0.31892553, 0.3123629 , 0.32063361,\n",
            "       0.32180229, 0.31712755, 0.26432989, 0.30121543, 0.2516002 ,\n",
            "       0.32081341, 0.34850228, 0.37789924, 0.31146391, 0.30112553,\n",
            "       0.21541587, 0.3726851 , 0.38778813, 0.29675645, 0.30580028,\n",
            "       0.33285987, 0.31757704, 0.38895681, 0.58448704, 0.45808911,\n",
            "       0.45386386, 0.45943759, 0.46671941, 1.        , 0.54403251,\n",
            "       0.37349419, 0.44460426, 0.36657197, 0.38293358, 0.41691539,\n",
            "       0.39587903, 0.30148513, 0.38266389, 0.46123557, 0.70674961,\n",
            "       0.50690424, 0.39992448, 0.33645582, 0.33276997, 0.35911036,\n",
            "       0.35056996, 0.49180122, 0.41008307, 0.36531339, 0.34391744,\n",
            "       0.42069114, 0.32261138, 0.28758675, 0.38068611, 0.31398109]), array([0.35389622, 0.38068611, 0.41197094, 0.38392247, 0.36126793,\n",
            "       0.32845482, 0.31892553, 0.3123629 , 0.32063361, 0.32180229,\n",
            "       0.31712755, 0.26432989, 0.30121543, 0.2516002 , 0.32081341,\n",
            "       0.34850228, 0.37789924, 0.31146391, 0.30112553, 0.21541587,\n",
            "       0.3726851 , 0.38778813, 0.29675645, 0.30580028, 0.33285987,\n",
            "       0.31757704, 0.38895681, 0.58448704, 0.45808911, 0.45386386,\n",
            "       0.45943759, 0.46671941, 1.        , 0.54403251, 0.37349419,\n",
            "       0.44460426, 0.36657197, 0.38293358, 0.41691539, 0.39587903,\n",
            "       0.30148513, 0.38266389, 0.46123557, 0.70674961, 0.50690424,\n",
            "       0.39992448, 0.33645582, 0.33276997, 0.35911036, 0.35056996,\n",
            "       0.49180122, 0.41008307, 0.36531339, 0.34391744, 0.42069114,\n",
            "       0.32261138, 0.28758675, 0.38068611, 0.31398109, 0.38365277])]\n",
            "[0.38365277428170863, 0.35371642274084003]\n",
            "\n"
          ]
        }
      ]
    },
    {
      "cell_type": "code",
      "metadata": {
        "id": "OYKmSuArdzSX"
      },
      "source": [
        "x_train, y_train = np.array(x_train), np.array(y_train)"
      ],
      "execution_count": 46,
      "outputs": []
    },
    {
      "cell_type": "code",
      "metadata": {
        "colab": {
          "base_uri": "https://localhost:8080/"
        },
        "id": "0gep-zhieFM1",
        "outputId": "292e97f8-64b9-42cd-da25-b5902f493e0a"
      },
      "source": [
        "x_train = np.reshape(x_train,(x_train.shape[0],x_train.shape[1],1))\n",
        "print(x_train.shape)"
      ],
      "execution_count": 47,
      "outputs": [
        {
          "output_type": "stream",
          "name": "stdout",
          "text": [
            "(1448, 60, 1)\n"
          ]
        }
      ]
    },
    {
      "cell_type": "code",
      "metadata": {
        "id": "xi6AjNfegptx"
      },
      "source": [
        "model = Sequential()\n",
        "model.add(LSTM(50, return_sequences=True, input_shape=(x_train.shape[1],1)))\n",
        "model.add(LSTM(50, return_sequences=False))\n",
        "model.add(Dense(25))\n",
        "model.add(Dense(1))"
      ],
      "execution_count": 48,
      "outputs": []
    },
    {
      "cell_type": "code",
      "metadata": {
        "id": "3BEKgZdYhVe9"
      },
      "source": [
        "model.compile(optimizer='Adam', loss='mean_squared_error')"
      ],
      "execution_count": 49,
      "outputs": []
    },
    {
      "cell_type": "code",
      "metadata": {
        "colab": {
          "base_uri": "https://localhost:8080/"
        },
        "id": "m_4Qi50chtj8",
        "outputId": "b042771b-c631-4168-9b1d-b8b6e1566ac7"
      },
      "source": [
        "model.fit(x_train,y_train, batch_size=1,epochs=5)"
      ],
      "execution_count": 50,
      "outputs": [
        {
          "output_type": "stream",
          "name": "stdout",
          "text": [
            "Epoch 1/5\n",
            "1448/1448 [==============================] - 42s 27ms/step - loss: 0.0020\n",
            "Epoch 2/5\n",
            "1448/1448 [==============================] - 38s 26ms/step - loss: 0.0016\n",
            "Epoch 3/5\n",
            "1448/1448 [==============================] - 37s 26ms/step - loss: 0.0015\n",
            "Epoch 4/5\n",
            "1448/1448 [==============================] - 37s 26ms/step - loss: 0.0015\n",
            "Epoch 5/5\n",
            "1448/1448 [==============================] - 39s 27ms/step - loss: 0.0015\n"
          ]
        },
        {
          "output_type": "execute_result",
          "data": {
            "text/plain": [
              "<keras.callbacks.History at 0x7fb24f1d5250>"
            ]
          },
          "metadata": {},
          "execution_count": 50
        }
      ]
    },
    {
      "cell_type": "code",
      "metadata": {
        "id": "T-XnOmQ8h2qF"
      },
      "source": [
        "test_data = scaled_data[training_data_len - 60:,:]\n",
        "x_test = []\n",
        "y_test = dataset[training_data_len:,:]\n",
        "for y in range(60,len(test_data)):\n",
        "  x_test.append(test_data[y-60:y,0])\n",
        "  "
      ],
      "execution_count": 51,
      "outputs": []
    },
    {
      "cell_type": "code",
      "metadata": {
        "id": "2Sd884ddiqcE"
      },
      "source": [
        "x_test = np.array(x_test)"
      ],
      "execution_count": 52,
      "outputs": []
    },
    {
      "cell_type": "code",
      "metadata": {
        "id": "A1GMsmjBivs1"
      },
      "source": [
        "x_test = np.reshape(x_test,(x_test.shape[0],x_test.shape[1],1))"
      ],
      "execution_count": 53,
      "outputs": []
    },
    {
      "cell_type": "code",
      "metadata": {
        "id": "QuU3vIMSjML1",
        "colab": {
          "base_uri": "https://localhost:8080/"
        },
        "outputId": "dad9a276-cd14-4f92-909a-c1699a51e2ce"
      },
      "source": [
        "predictions = model.predict(x_test)\n",
        "predictions = scaler.inverse_transform(predictions)"
      ],
      "execution_count": 54,
      "outputs": [
        {
          "output_type": "stream",
          "name": "stdout",
          "text": [
            "12/12 [==============================] - 1s 15ms/step\n"
          ]
        }
      ]
    },
    {
      "cell_type": "code",
      "metadata": {
        "colab": {
          "base_uri": "https://localhost:8080/"
        },
        "id": "0SR33yrcjc1v",
        "outputId": "39108c93-c062-4e96-dbf6-8037da626854"
      },
      "source": [
        "rmse = np.sqrt(np.mean(predictions - y_test)**2)\n",
        "rmse"
      ],
      "execution_count": 55,
      "outputs": [
        {
          "output_type": "execute_result",
          "data": {
            "text/plain": [
              "0.0010667308893406642"
            ]
          },
          "metadata": {},
          "execution_count": 55
        }
      ]
    },
    {
      "cell_type": "code",
      "metadata": {
        "colab": {
          "base_uri": "https://localhost:8080/",
          "height": 923
        },
        "id": "JXfxBZH0juq7",
        "outputId": "9585e864-58ef-469f-dd67-841411d4ebc4"
      },
      "source": [
        "train = data[:training_data_len]\n",
        "valid = data[training_data_len:]\n",
        "valid['Tahminler'] = predictions\n",
        "\n",
        "plt.figure(figsize=(16,8))\n",
        "plt.title('Model')\n",
        "plt.xlabel('Tarih',fontsize=18)\n",
        "plt.ylabel('Kapanış Fiyatları',fontsize=18)\n",
        "plt.plot(train['Close'])\n",
        "plt.plot(valid[['Close','Tahminler']])\n",
        "plt.legend(['Eğitilen Alan','Değer','Tahminler'])\n",
        "plt.show()\n",
        "print(valid)"
      ],
      "execution_count": 56,
      "outputs": [
        {
          "output_type": "stream",
          "name": "stderr",
          "text": [
            "<ipython-input-56-87bcbd9c370a>:3: SettingWithCopyWarning: \n",
            "A value is trying to be set on a copy of a slice from a DataFrame.\n",
            "Try using .loc[row_indexer,col_indexer] = value instead\n",
            "\n",
            "See the caveats in the documentation: https://pandas.pydata.org/pandas-docs/stable/user_guide/indexing.html#returning-a-view-versus-a-copy\n",
            "  valid['Tahminler'] = predictions\n"
          ]
        },
        {
          "output_type": "display_data",
          "data": {
            "text/plain": [
              "<Figure size 1152x576 with 1 Axes>"
            ],
            "image/png": "[encoded data removed]"
          },
          "metadata": {}
        },
        {
          "output_type": "stream",
          "name": "stdout",
          "text": [
            "               Close  Tahminler\n",
            "Date                           \n",
            "2021-12-26  1.000449   0.999135\n",
            "2021-12-27  0.999944   0.999178\n",
            "2021-12-28  1.001168   0.999048\n",
            "2021-12-29  1.000294   0.999363\n",
            "2021-12-30  1.001036   0.999248\n",
            "...              ...        ...\n",
            "2023-01-01  0.999692   0.998713\n",
            "2023-01-02  0.999771   0.998707\n",
            "2023-01-03  0.999759   0.998726\n",
            "2023-01-04  0.999763   0.998729\n",
            "2023-01-05  0.999836   0.998732\n",
            "\n",
            "[376 rows x 2 columns]\n"
          ]
        }
      ]
    }
  ]
}