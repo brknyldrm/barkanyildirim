{
  "nbformat": 4,
  "nbformat_minor": 0,
  "metadata": {
    "colab": {
      "provenance": []
    },
    "kernelspec": {
      "name": "python3",
      "display_name": "Python 3"
    },
    "language_info": {
      "name": "python"
    }
  },
  "cells": [
    {
      "cell_type": "code",
      "metadata": {
        "id": "NQ5fHC1xWTUC"
      },
      "source": [
        "import math\n",
        "import pandas as pd\n",
        "import numpy as np\n",
        "import matplotlib.pyplot as plt\n",
        "from sklearn.preprocessing import MinMaxScaler\n",
        "from keras.models import Sequential\n",
        "from keras.layers import Dense, LSTM\n",
        "plt.style.use('fivethirtyeight')\n",
        "\n"
      ],
      "execution_count": 111,
      "outputs": []
    },
    {
      "cell_type": "code",
      "source": [
        "from google.colab import files\n",
        "uploaded = files.upload()"
      ],
      "metadata": {
        "colab": {
          "base_uri": "https://localhost:8080/",
          "height": 73
        },
        "id": "oodFcgMv105U",
        "outputId": "fdcd8503-a9d4-4fc5-d4d7-0efaccac2cf3"
      },
      "execution_count": 112,
      "outputs": [
        {
          "output_type": "display_data",
          "data": {
            "text/plain": [
              "<IPython.core.display.HTML object>"
            ],
            "text/html": [
              "\n",
              "     <input type=\"file\" id=\"files-5eb7bea9-444d-4d25-89dc-38bc4bd674ae\" name=\"files[]\" multiple disabled\n",
              "        style=\"border:none\" />\n",
              "     <output id=\"result-5eb7bea9-444d-4d25-89dc-38bc4bd674ae\">\n",
              "      Upload widget is only available when the cell has been executed in the\n",
              "      current browser session. Please rerun this cell to enable.\n",
              "      </output>\n",
              "      <script>// Copyright 2017 Google LLC\n",
              "//\n",
              "// Licensed under the Apache License, Version 2.0 (the \"License\");\n",
              "// you may not use this file except in compliance with the License.\n",
              "// You may obtain a copy of the License at\n",
              "//\n",
              "//      http://www.apache.org/licenses/LICENSE-2.0\n",
              "//\n",
              "// Unless required by applicable law or agreed to in writing, software\n",
              "// distributed under the License is distributed on an \"AS IS\" BASIS,\n",
              "// WITHOUT WARRANTIES OR CONDITIONS OF ANY KIND, either express or implied.\n",
              "// See the License for the specific language governing permissions and\n",
              "// limitations under the License.\n",
              "\n",
              "/**\n",
              " * @fileoverview Helpers for google.colab Python module.\n",
              " */\n",
              "(function(scope) {\n",
              "function span(text, styleAttributes = {}) {\n",
              "  const element = document.createElement('span');\n",
              "  element.textContent = text;\n",
              "  for (const key of Object.keys(styleAttributes)) {\n",
              "    element.style[key] = styleAttributes[key];\n",
              "  }\n",
              "  return element;\n",
              "}\n",
              "\n",
              "// Max number of bytes which will be uploaded at a time.\n",
              "const MAX_PAYLOAD_SIZE = 100 * 1024;\n",
              "\n",
              "function _uploadFiles(inputId, outputId) {\n",
              "  const steps = uploadFilesStep(inputId, outputId);\n",
              "  const outputElement = document.getElementById(outputId);\n",
              "  // Cache steps on the outputElement to make it available for the next call\n",
              "  // to uploadFilesContinue from Python.\n",
              "  outputElement.steps = steps;\n",
              "\n",
              "  return _uploadFilesContinue(outputId);\n",
              "}\n",
              "\n",
              "// This is roughly an async generator (not supported in the browser yet),\n",
              "// where there are multiple asynchronous steps and the Python side is going\n",
              "// to poll for completion of each step.\n",
              "// This uses a Promise to block the python side on completion of each step,\n",
              "// then passes the result of the previous step as the input to the next step.\n",
              "function _uploadFilesContinue(outputId) {\n",
              "  const outputElement = document.getElementById(outputId);\n",
              "  const steps = outputElement.steps;\n",
              "\n",
              "  const next = steps.next(outputElement.lastPromiseValue);\n",
              "  return Promise.resolve(next.value.promise).then((value) => {\n",
              "    // Cache the last promise value to make it available to the next\n",
              "    // step of the generator.\n",
              "    outputElement.lastPromiseValue = value;\n",
              "    return next.value.response;\n",
              "  });\n",
              "}\n",
              "\n",
              "/**\n",
              " * Generator function which is called between each async step of the upload\n",
              " * process.\n",
              " * @param {string} inputId Element ID of the input file picker element.\n",
              " * @param {string} outputId Element ID of the output display.\n",
              " * @return {!Iterable<!Object>} Iterable of next steps.\n",
              " */\n",
              "function* uploadFilesStep(inputId, outputId) {\n",
              "  const inputElement = document.getElementById(inputId);\n",
              "  inputElement.disabled = false;\n",
              "\n",
              "  const outputElement = document.getElementById(outputId);\n",
              "  outputElement.innerHTML = '';\n",
              "\n",
              "  const pickedPromise = new Promise((resolve) => {\n",
              "    inputElement.addEventListener('change', (e) => {\n",
              "      resolve(e.target.files);\n",
              "    });\n",
              "  });\n",
              "\n",
              "  const cancel = document.createElement('button');\n",
              "  inputElement.parentElement.appendChild(cancel);\n",
              "  cancel.textContent = 'Cancel upload';\n",
              "  const cancelPromise = new Promise((resolve) => {\n",
              "    cancel.onclick = () => {\n",
              "      resolve(null);\n",
              "    };\n",
              "  });\n",
              "\n",
              "  // Wait for the user to pick the files.\n",
              "  const files = yield {\n",
              "    promise: Promise.race([pickedPromise, cancelPromise]),\n",
              "    response: {\n",
              "      action: 'starting',\n",
              "    }\n",
              "  };\n",
              "\n",
              "  cancel.remove();\n",
              "\n",
              "  // Disable the input element since further picks are not allowed.\n",
              "  inputElement.disabled = true;\n",
              "\n",
              "  if (!files) {\n",
              "    return {\n",
              "      response: {\n",
              "        action: 'complete',\n",
              "      }\n",
              "    };\n",
              "  }\n",
              "\n",
              "  for (const file of files) {\n",
              "    const li = document.createElement('li');\n",
              "    li.append(span(file.name, {fontWeight: 'bold'}));\n",
              "    li.append(span(\n",
              "        `(${file.type || 'n/a'}) - ${file.size} bytes, ` +\n",
              "        `last modified: ${\n",
              "            file.lastModifiedDate ? file.lastModifiedDate.toLocaleDateString() :\n",
              "                                    'n/a'} - `));\n",
              "    const percent = span('0% done');\n",
              "    li.appendChild(percent);\n",
              "\n",
              "    outputElement.appendChild(li);\n",
              "\n",
              "    const fileDataPromise = new Promise((resolve) => {\n",
              "      const reader = new FileReader();\n",
              "      reader.onload = (e) => {\n",
              "        resolve(e.target.result);\n",
              "      };\n",
              "      reader.readAsArrayBuffer(file);\n",
              "    });\n",
              "    // Wait for the data to be ready.\n",
              "    let fileData = yield {\n",
              "      promise: fileDataPromise,\n",
              "      response: {\n",
              "        action: 'continue',\n",
              "      }\n",
              "    };\n",
              "\n",
              "    // Use a chunked sending to avoid message size limits. See b/62115660.\n",
              "    let position = 0;\n",
              "    do {\n",
              "      const length = Math.min(fileData.byteLength - position, MAX_PAYLOAD_SIZE);\n",
              "      const chunk = new Uint8Array(fileData, position, length);\n",
              "      position += length;\n",
              "\n",
              "      const base64 = btoa(String.fromCharCode.apply(null, chunk));\n",
              "      yield {\n",
              "        response: {\n",
              "          action: 'append',\n",
              "          file: file.name,\n",
              "          data: base64,\n",
              "        },\n",
              "      };\n",
              "\n",
              "      let percentDone = fileData.byteLength === 0 ?\n",
              "          100 :\n",
              "          Math.round((position / fileData.byteLength) * 100);\n",
              "      percent.textContent = `${percentDone}% done`;\n",
              "\n",
              "    } while (position < fileData.byteLength);\n",
              "  }\n",
              "\n",
              "  // All done.\n",
              "  yield {\n",
              "    response: {\n",
              "      action: 'complete',\n",
              "    }\n",
              "  };\n",
              "}\n",
              "\n",
              "scope.google = scope.google || {};\n",
              "scope.google.colab = scope.google.colab || {};\n",
              "scope.google.colab._files = {\n",
              "  _uploadFiles,\n",
              "  _uploadFilesContinue,\n",
              "};\n",
              "})(self);\n",
              "</script> "
            ]
          },
          "metadata": {}
        },
        {
          "output_type": "stream",
          "name": "stdout",
          "text": [
            "Saving ADA-USD.csv to ADA-USD.csv\n"
          ]
        }
      ]
    },
    {
      "cell_type": "code",
      "metadata": {
        "colab": {
          "base_uri": "https://localhost:8080/",
          "height": 455
        },
        "id": "eyuPFtS8asw8",
        "outputId": "8e3a4110-c135-4a6d-848a-53066dde95c2"
      },
      "source": [
        "import io\n",
        "df = pd.read_csv(\"ADA-USD.csv\", index_col=0, parse_dates=True)\n",
        "df.shape\n",
        "df"
      ],
      "execution_count": 113,
      "outputs": [
        {
          "output_type": "execute_result",
          "data": {
            "text/plain": [
              "                Open      High       Low     Close  Adj Close     Volume\n",
              "Date                                                                    \n",
              "2018-01-05  1.171150  1.252420  0.903503  0.999559   0.999559  508100000\n",
              "2018-01-06  0.997000  1.054010  0.929183  1.027150   1.027150  297615008\n",
              "2018-01-07  1.024150  1.043960  0.991391  1.008520   1.008520  226067008\n",
              "2018-01-08  0.999329  0.999329  0.764328  0.899002   0.899002  264460992\n",
              "2018-01-09  0.898185  0.919436  0.796177  0.814743   0.814743  209492000\n",
              "...              ...       ...       ...       ...        ...        ...\n",
              "2023-01-01  0.246414  0.249771  0.244245  0.249771   0.249771  113369989\n",
              "2023-01-02  0.249778  0.255767  0.247368  0.253828   0.253828  159328803\n",
              "2023-01-03  0.253800  0.255062  0.250548  0.252796   0.252796  153555529\n",
              "2023-01-04  0.252796  0.269564  0.252244  0.267677   0.267677  289945179\n",
              "2023-01-05  0.267782  0.269339  0.265319  0.265627   0.265627  221926800\n",
              "\n",
              "[1827 rows x 6 columns]"
            ],
            "text/html": [
              "\n",
              "  <div id=\"df-1776d6dd-cbfb-4e25-a9ee-19a9227defef\">\n",
              "    <div class=\"colab-df-container\">\n",
              "      <div>\n",
              "<style scoped>\n",
              "    .dataframe tbody tr th:only-of-type {\n",
              "        vertical-align: middle;\n",
              "    }\n",
              "\n",
              "    .dataframe tbody tr th {\n",
              "        vertical-align: top;\n",
              "    }\n",
              "\n",
              "    .dataframe thead th {\n",
              "        text-align: right;\n",
              "    }\n",
              "</style>\n",
              "<table border=\"1\" class=\"dataframe\">\n",
              "  <thead>\n",
              "    <tr style=\"text-align: right;\">\n",
              "      <th></th>\n",
              "      <th>Open</th>\n",
              "      <th>High</th>\n",
              "      <th>Low</th>\n",
              "      <th>Close</th>\n",
              "      <th>Adj Close</th>\n",
              "      <th>Volume</th>\n",
              "    </tr>\n",
              "    <tr>\n",
              "      <th>Date</th>\n",
              "      <th></th>\n",
              "      <th></th>\n",
              "      <th></th>\n",
              "      <th></th>\n",
              "      <th></th>\n",
              "      <th></th>\n",
              "    </tr>\n",
              "  </thead>\n",
              "  <tbody>\n",
              "    <tr>\n",
              "      <th>2018-01-05</th>\n",
              "      <td>1.171150</td>\n",
              "      <td>1.252420</td>\n",
              "      <td>0.903503</td>\n",
              "      <td>0.999559</td>\n",
              "      <td>0.999559</td>\n",
              "      <td>508100000</td>\n",
              "    </tr>\n",
              "    <tr>\n",
              "      <th>2018-01-06</th>\n",
              "      <td>0.997000</td>\n",
              "      <td>1.054010</td>\n",
              "      <td>0.929183</td>\n",
              "      <td>1.027150</td>\n",
              "      <td>1.027150</td>\n",
              "      <td>297615008</td>\n",
              "    </tr>\n",
              "    <tr>\n",
              "      <th>2018-01-07</th>\n",
              "      <td>1.024150</td>\n",
              "      <td>1.043960</td>\n",
              "      <td>0.991391</td>\n",
              "      <td>1.008520</td>\n",
              "      <td>1.008520</td>\n",
              "      <td>226067008</td>\n",
              "    </tr>\n",
              "    <tr>\n",
              "      <th>2018-01-08</th>\n",
              "      <td>0.999329</td>\n",
              "      <td>0.999329</td>\n",
              "      <td>0.764328</td>\n",
              "      <td>0.899002</td>\n",
              "      <td>0.899002</td>\n",
              "      <td>264460992</td>\n",
              "    </tr>\n",
              "    <tr>\n",
              "      <th>2018-01-09</th>\n",
              "      <td>0.898185</td>\n",
              "      <td>0.919436</td>\n",
              "      <td>0.796177</td>\n",
              "      <td>0.814743</td>\n",
              "      <td>0.814743</td>\n",
              "      <td>209492000</td>\n",
              "    </tr>\n",
              "    <tr>\n",
              "      <th>...</th>\n",
              "      <td>...</td>\n",
              "      <td>...</td>\n",
              "      <td>...</td>\n",
              "      <td>...</td>\n",
              "      <td>...</td>\n",
              "      <td>...</td>\n",
              "    </tr>\n",
              "    <tr>\n",
              "      <th>2023-01-01</th>\n",
              "      <td>0.246414</td>\n",
              "      <td>0.249771</td>\n",
              "      <td>0.244245</td>\n",
              "      <td>0.249771</td>\n",
              "      <td>0.249771</td>\n",
              "      <td>113369989</td>\n",
              "    </tr>\n",
              "    <tr>\n",
              "      <th>2023-01-02</th>\n",
              "      <td>0.249778</td>\n",
              "      <td>0.255767</td>\n",
              "      <td>0.247368</td>\n",
              "      <td>0.253828</td>\n",
              "      <td>0.253828</td>\n",
              "      <td>159328803</td>\n",
              "    </tr>\n",
              "    <tr>\n",
              "      <th>2023-01-03</th>\n",
              "      <td>0.253800</td>\n",
              "      <td>0.255062</td>\n",
              "      <td>0.250548</td>\n",
              "      <td>0.252796</td>\n",
              "      <td>0.252796</td>\n",
              "      <td>153555529</td>\n",
              "    </tr>\n",
              "    <tr>\n",
              "      <th>2023-01-04</th>\n",
              "      <td>0.252796</td>\n",
              "      <td>0.269564</td>\n",
              "      <td>0.252244</td>\n",
              "      <td>0.267677</td>\n",
              "      <td>0.267677</td>\n",
              "      <td>289945179</td>\n",
              "    </tr>\n",
              "    <tr>\n",
              "      <th>2023-01-05</th>\n",
              "      <td>0.267782</td>\n",
              "      <td>0.269339</td>\n",
              "      <td>0.265319</td>\n",
              "      <td>0.265627</td>\n",
              "      <td>0.265627</td>\n",
              "      <td>221926800</td>\n",
              "    </tr>\n",
              "  </tbody>\n",
              "</table>\n",
              "<p>1827 rows × 6 columns</p>\n",
              "</div>\n",
              "      <button class=\"colab-df-convert\" onclick=\"convertToInteractive('df-1776d6dd-cbfb-4e25-a9ee-19a9227defef')\"\n",
              "              title=\"Convert this dataframe to an interactive table.\"\n",
              "              style=\"display:none;\">\n",
              "        \n",
              "  <svg xmlns=\"http://www.w3.org/2000/svg\" height=\"24px\"viewBox=\"0 0 24 24\"\n",
              "       width=\"24px\">\n",
              "    <path d=\"M0 0h24v24H0V0z\" fill=\"none\"/>\n",
              "    <path d=\"M18.56 5.44l.94 2.06.94-2.06 2.06-.94-2.06-.94-.94-2.06-.94 2.06-2.06.94zm-11 1L8.5 8.5l.94-2.06 2.06-.94-2.06-.94L8.5 2.5l-.94 2.06-2.06.94zm10 10l.94 2.06.94-2.06 2.06-.94-2.06-.94-.94-2.06-.94 2.06-2.06.94z\"/><path d=\"M17.41 7.96l-1.37-1.37c-.4-.4-.92-.59-1.43-.59-.52 0-1.04.2-1.43.59L10.3 9.45l-7.72 7.72c-.78.78-.78 2.05 0 2.83L4 21.41c.39.39.9.59 1.41.59.51 0 1.02-.2 1.41-.59l7.78-7.78 2.81-2.81c.8-.78.8-2.07 0-2.86zM5.41 20L4 18.59l7.72-7.72 1.47 1.35L5.41 20z\"/>\n",
              "  </svg>\n",
              "      </button>\n",
              "      \n",
              "  <style>\n",
              "    .colab-df-container {\n",
              "      display:flex;\n",
              "      flex-wrap:wrap;\n",
              "      gap: 12px;\n",
              "    }\n",
              "\n",
              "    .colab-df-convert {\n",
              "      background-color: #E8F0FE;\n",
              "      border: none;\n",
              "      border-radius: 50%;\n",
              "      cursor: pointer;\n",
              "      display: none;\n",
              "      fill: #1967D2;\n",
              "      height: 32px;\n",
              "      padding: 0 0 0 0;\n",
              "      width: 32px;\n",
              "    }\n",
              "\n",
              "    .colab-df-convert:hover {\n",
              "      background-color: #E2EBFA;\n",
              "      box-shadow: 0px 1px 2px rgba(60, 64, 67, 0.3), 0px 1px 3px 1px rgba(60, 64, 67, 0.15);\n",
              "      fill: #174EA6;\n",
              "    }\n",
              "\n",
              "    [theme=dark] .colab-df-convert {\n",
              "      background-color: #3B4455;\n",
              "      fill: #D2E3FC;\n",
              "    }\n",
              "\n",
              "    [theme=dark] .colab-df-convert:hover {\n",
              "      background-color: #434B5C;\n",
              "      box-shadow: 0px 1px 3px 1px rgba(0, 0, 0, 0.15);\n",
              "      filter: drop-shadow(0px 1px 2px rgba(0, 0, 0, 0.3));\n",
              "      fill: #FFFFFF;\n",
              "    }\n",
              "  </style>\n",
              "\n",
              "      <script>\n",
              "        const buttonEl =\n",
              "          document.querySelector('#df-1776d6dd-cbfb-4e25-a9ee-19a9227defef button.colab-df-convert');\n",
              "        buttonEl.style.display =\n",
              "          google.colab.kernel.accessAllowed ? 'block' : 'none';\n",
              "\n",
              "        async function convertToInteractive(key) {\n",
              "          const element = document.querySelector('#df-1776d6dd-cbfb-4e25-a9ee-19a9227defef');\n",
              "          const dataTable =\n",
              "            await google.colab.kernel.invokeFunction('convertToInteractive',\n",
              "                                                     [key], {});\n",
              "          if (!dataTable) return;\n",
              "\n",
              "          const docLinkHtml = 'Like what you see? Visit the ' +\n",
              "            '<a target=\"_blank\" href=https://colab.research.google.com/notebooks/data_table.ipynb>data table notebook</a>'\n",
              "            + ' to learn more about interactive tables.';\n",
              "          element.innerHTML = '';\n",
              "          dataTable['output_type'] = 'display_data';\n",
              "          await google.colab.output.renderOutput(dataTable, element);\n",
              "          const docLink = document.createElement('div');\n",
              "          docLink.innerHTML = docLinkHtml;\n",
              "          element.appendChild(docLink);\n",
              "        }\n",
              "      </script>\n",
              "    </div>\n",
              "  </div>\n",
              "  "
            ]
          },
          "metadata": {},
          "execution_count": 113
        }
      ]
    },
    {
      "cell_type": "code",
      "metadata": {
        "colab": {
          "base_uri": "https://localhost:8080/",
          "height": 575
        },
        "id": "oVEvK0nqbP83",
        "outputId": "be63b93e-56b8-4623-d378-d337751d97c7"
      },
      "source": [
        "plt.figure(figsize=(16,8))\n",
        "plt.title(\"Kapanış Fiyatları\")\n",
        "plt.plot(df['Close'])\n",
        "plt.xlabel('Tarih', fontsize=18)\n",
        "plt.ylabel('ETH-USD Açılış Fiyatları', fontsize=18)\n"
      ],
      "execution_count": 114,
      "outputs": [
        {
          "output_type": "execute_result",
          "data": {
            "text/plain": [
              "Text(0, 0.5, 'ETH-USD Açılış Fiyatları')"
            ]
          },
          "metadata": {},
          "execution_count": 114
        },
        {
          "output_type": "display_data",
          "data": {
            "text/plain": [
              "<Figure size 1152x576 with 1 Axes>"
            ],
            "image/png": "[encoded data removed]"
          },
          "metadata": {}
        }
      ]
    },
    {
      "cell_type": "code",
      "metadata": {
        "colab": {
          "base_uri": "https://localhost:8080/"
        },
        "id": "YM8b2n6Sb-me",
        "outputId": "550022d4-2fcc-41f6-b4ab-44e3dbad7057"
      },
      "source": [
        "data= df.filter(['Close'])\n",
        "dataset= data.values\n",
        "training_data_len = math.ceil(len(dataset) * .8)\n",
        "training_data_len"
      ],
      "execution_count": 115,
      "outputs": [
        {
          "output_type": "execute_result",
          "data": {
            "text/plain": [
              "1462"
            ]
          },
          "metadata": {},
          "execution_count": 115
        }
      ]
    },
    {
      "cell_type": "code",
      "metadata": {
        "colab": {
          "base_uri": "https://localhost:8080/"
        },
        "id": "shO16d2Hcd8U",
        "outputId": "9b7c3dbb-ba4b-4b05-cbd9-c1fc1db50a44"
      },
      "source": [
        "scaler = MinMaxScaler(feature_range=(0,1))\n",
        "scaled_data = scaler.fit_transform(dataset)\n",
        "scaled_data"
      ],
      "execution_count": 116,
      "outputs": [
        {
          "output_type": "execute_result",
          "data": {
            "text/plain": [
              "array([[0.3313539 ],\n",
              "       [0.34072496],\n",
              "       [0.33439743],\n",
              "       ...,\n",
              "       [0.07772194],\n",
              "       [0.08277615],\n",
              "       [0.08207989]])"
            ]
          },
          "metadata": {},
          "execution_count": 116
        }
      ]
    },
    {
      "cell_type": "code",
      "metadata": {
        "colab": {
          "base_uri": "https://localhost:8080/"
        },
        "id": "hxf599_wc-w_",
        "outputId": "8548db9c-4daf-4a7f-c98c-7b5ac479e8b6"
      },
      "source": [
        "train_data = scaled_data[0:training_data_len,:]\n",
        "x_train = []\n",
        "y_train = []\n",
        "\n",
        "for i in range(60, len(train_data)):\n",
        "  x_train.append(train_data[i-60:i,0])\n",
        "  y_train.append(train_data[i,0])\n",
        "  if i <= 61:\n",
        "    print(x_train)\n",
        "    print(y_train)\n",
        "    print()"
      ],
      "execution_count": 117,
      "outputs": [
        {
          "output_type": "stream",
          "name": "stdout",
          "text": [
            "[array([0.3313539 , 0.34072496, 0.33439743, 0.29720054, 0.26858265,\n",
            "       0.26123892, 0.22567536, 0.29669311, 0.29214734, 0.26434358,\n",
            "       0.25630256, 0.20464508, 0.2055312 , 0.21597213, 0.21279818,\n",
            "       0.23216184, 0.20011765, 0.18561325, 0.18310397, 0.20318971,\n",
            "       0.20838182, 0.20358845, 0.20136414, 0.21951901, 0.203528  ,\n",
            "       0.17252175, 0.16824294, 0.1350793 , 0.12450353, 0.14090891,\n",
            "       0.12068901, 0.10305073, 0.11744543, 0.10749189, 0.11297269,\n",
            "       0.12486627, 0.12971296, 0.11745087, 0.1223913 , 0.1186549 ,\n",
            "       0.12666841, 0.13090034, 0.12901261, 0.13447168, 0.12283385,\n",
            "       0.12482211, 0.12051104, 0.11564125, 0.10661697, 0.1091259 ,\n",
            "       0.10155461, 0.10870984, 0.10677456, 0.10582391, 0.09802743,\n",
            "       0.0952478 , 0.09154808, 0.09277147, 0.09402169, 0.09294673])]\n",
            "[0.08878101864022352]\n",
            "\n",
            "[array([0.3313539 , 0.34072496, 0.33439743, 0.29720054, 0.26858265,\n",
            "       0.26123892, 0.22567536, 0.29669311, 0.29214734, 0.26434358,\n",
            "       0.25630256, 0.20464508, 0.2055312 , 0.21597213, 0.21279818,\n",
            "       0.23216184, 0.20011765, 0.18561325, 0.18310397, 0.20318971,\n",
            "       0.20838182, 0.20358845, 0.20136414, 0.21951901, 0.203528  ,\n",
            "       0.17252175, 0.16824294, 0.1350793 , 0.12450353, 0.14090891,\n",
            "       0.12068901, 0.10305073, 0.11744543, 0.10749189, 0.11297269,\n",
            "       0.12486627, 0.12971296, 0.11745087, 0.1223913 , 0.1186549 ,\n",
            "       0.12666841, 0.13090034, 0.12901261, 0.13447168, 0.12283385,\n",
            "       0.12482211, 0.12051104, 0.11564125, 0.10661697, 0.1091259 ,\n",
            "       0.10155461, 0.10870984, 0.10677456, 0.10582391, 0.09802743,\n",
            "       0.0952478 , 0.09154808, 0.09277147, 0.09402169, 0.09294673]), array([0.34072496, 0.33439743, 0.29720054, 0.26858265, 0.26123892,\n",
            "       0.22567536, 0.29669311, 0.29214734, 0.26434358, 0.25630256,\n",
            "       0.20464508, 0.2055312 , 0.21597213, 0.21279818, 0.23216184,\n",
            "       0.20011765, 0.18561325, 0.18310397, 0.20318971, 0.20838182,\n",
            "       0.20358845, 0.20136414, 0.21951901, 0.203528  , 0.17252175,\n",
            "       0.16824294, 0.1350793 , 0.12450353, 0.14090891, 0.12068901,\n",
            "       0.10305073, 0.11744543, 0.10749189, 0.11297269, 0.12486627,\n",
            "       0.12971296, 0.11745087, 0.1223913 , 0.1186549 , 0.12666841,\n",
            "       0.13090034, 0.12901261, 0.13447168, 0.12283385, 0.12482211,\n",
            "       0.12051104, 0.11564125, 0.10661697, 0.1091259 , 0.10155461,\n",
            "       0.10870984, 0.10677456, 0.10582391, 0.09802743, 0.0952478 ,\n",
            "       0.09154808, 0.09277147, 0.09402169, 0.09294673, 0.08878102])]\n",
            "[0.08878101864022352, 0.07584881590665012]\n",
            "\n"
          ]
        }
      ]
    },
    {
      "cell_type": "code",
      "metadata": {
        "id": "OYKmSuArdzSX"
      },
      "source": [
        "x_train, y_train = np.array(x_train), np.array(y_train)"
      ],
      "execution_count": 118,
      "outputs": []
    },
    {
      "cell_type": "code",
      "metadata": {
        "colab": {
          "base_uri": "https://localhost:8080/"
        },
        "id": "0gep-zhieFM1",
        "outputId": "b943e376-9956-4a51-fbb2-58cafdd1d3a7"
      },
      "source": [
        "x_train = np.reshape(x_train,(x_train.shape[0],x_train.shape[1],1))\n",
        "print(x_train.shape)"
      ],
      "execution_count": 119,
      "outputs": [
        {
          "output_type": "stream",
          "name": "stdout",
          "text": [
            "(1402, 60, 1)\n"
          ]
        }
      ]
    },
    {
      "cell_type": "code",
      "metadata": {
        "id": "xi6AjNfegptx"
      },
      "source": [
        "model = Sequential()\n",
        "model.add(LSTM(50, return_sequences=True, input_shape=(x_train.shape[1],1)))\n",
        "model.add(LSTM(50, return_sequences=False))\n",
        "model.add(Dense(25))\n",
        "model.add(Dense(1))"
      ],
      "execution_count": 120,
      "outputs": []
    },
    {
      "cell_type": "code",
      "metadata": {
        "id": "3BEKgZdYhVe9"
      },
      "source": [
        "model.compile(optimizer='Adam', loss='mean_squared_error')"
      ],
      "execution_count": 121,
      "outputs": []
    },
    {
      "cell_type": "code",
      "metadata": {
        "colab": {
          "base_uri": "https://localhost:8080/"
        },
        "id": "m_4Qi50chtj8",
        "outputId": "a4d1a1bf-5464-4fbc-f62f-c55b5d92142e"
      },
      "source": [
        "model.fit(x_train,y_train, batch_size=1,epochs=5)"
      ],
      "execution_count": 122,
      "outputs": [
        {
          "output_type": "stream",
          "name": "stdout",
          "text": [
            "Epoch 1/5\n",
            "1402/1402 [==============================] - 46s 30ms/step - loss: 0.0020\n",
            "Epoch 2/5\n",
            "1402/1402 [==============================] - 41s 29ms/step - loss: 0.0013\n",
            "Epoch 3/5\n",
            "1402/1402 [==============================] - 40s 28ms/step - loss: 0.0011\n",
            "Epoch 4/5\n",
            "1402/1402 [==============================] - 40s 28ms/step - loss: 7.7230e-04\n",
            "Epoch 5/5\n",
            "1402/1402 [==============================] - 41s 29ms/step - loss: 6.8409e-04\n"
          ]
        },
        {
          "output_type": "execute_result",
          "data": {
            "text/plain": [
              "<keras.callbacks.History at 0x7fb248479400>"
            ]
          },
          "metadata": {},
          "execution_count": 122
        }
      ]
    },
    {
      "cell_type": "code",
      "metadata": {
        "id": "T-XnOmQ8h2qF"
      },
      "source": [
        "test_data = scaled_data[training_data_len - 60:,:]\n",
        "x_test = []\n",
        "y_test = dataset[training_data_len:,:]\n",
        "for y in range(60,len(test_data)):\n",
        "  x_test.append(test_data[y-60:y,0])\n",
        "  "
      ],
      "execution_count": 123,
      "outputs": []
    },
    {
      "cell_type": "code",
      "metadata": {
        "id": "2Sd884ddiqcE"
      },
      "source": [
        "x_test = np.array(x_test)"
      ],
      "execution_count": 124,
      "outputs": []
    },
    {
      "cell_type": "code",
      "metadata": {
        "id": "A1GMsmjBivs1"
      },
      "source": [
        "x_test = np.reshape(x_test,(x_test.shape[0],x_test.shape[1],1))"
      ],
      "execution_count": 125,
      "outputs": []
    },
    {
      "cell_type": "code",
      "metadata": {
        "id": "QuU3vIMSjML1",
        "colab": {
          "base_uri": "https://localhost:8080/"
        },
        "outputId": "43b4dcf8-db33-4ae9-a002-fb9068214646"
      },
      "source": [
        "predictions = model.predict(x_test)\n",
        "predictions = scaler.inverse_transform(predictions)"
      ],
      "execution_count": 126,
      "outputs": [
        {
          "output_type": "stream",
          "name": "stdout",
          "text": [
            "12/12 [==============================] - 1s 19ms/step\n"
          ]
        }
      ]
    },
    {
      "cell_type": "code",
      "metadata": {
        "colab": {
          "base_uri": "https://localhost:8080/"
        },
        "id": "0SR33yrcjc1v",
        "outputId": "c741f59e-ae12-4637-84b8-972d4a779b8c"
      },
      "source": [
        "rmse = np.sqrt(np.mean(predictions - y_test)**2)\n",
        "rmse"
      ],
      "execution_count": 127,
      "outputs": [
        {
          "output_type": "execute_result",
          "data": {
            "text/plain": [
              "0.006996066794988555"
            ]
          },
          "metadata": {},
          "execution_count": 127
        }
      ]
    },
    {
      "cell_type": "code",
      "metadata": {
        "colab": {
          "base_uri": "https://localhost:8080/",
          "height": 923
        },
        "id": "JXfxBZH0juq7",
        "outputId": "6970a5ec-4540-49dc-d8d3-fe0e49f2eb81"
      },
      "source": [
        "train = data[:training_data_len]\n",
        "valid = data[training_data_len:]\n",
        "valid['Tahminler'] = predictions\n",
        "\n",
        "plt.figure(figsize=(16,8))\n",
        "plt.title('Model')\n",
        "plt.xlabel('Tarih',fontsize=18)\n",
        "plt.ylabel('Kapanış Fiyatları',fontsize=18)\n",
        "plt.plot(train['Close'])\n",
        "plt.plot(valid[['Close','Tahminler']])\n",
        "plt.legend(['Eğitilen Alan','Değer','Tahminler'])\n",
        "plt.show()\n",
        "print(valid)"
      ],
      "execution_count": 128,
      "outputs": [
        {
          "output_type": "stream",
          "name": "stderr",
          "text": [
            "<ipython-input-128-87bcbd9c370a>:3: SettingWithCopyWarning: \n",
            "A value is trying to be set on a copy of a slice from a DataFrame.\n",
            "Try using .loc[row_indexer,col_indexer] = value instead\n",
            "\n",
            "See the caveats in the documentation: https://pandas.pydata.org/pandas-docs/stable/user_guide/indexing.html#returning-a-view-versus-a-copy\n",
            "  valid['Tahminler'] = predictions\n"
          ]
        },
        {
          "output_type": "display_data",
          "data": {
            "text/plain": [
              "<Figure size 1152x576 with 1 Axes>"
            ],
            "image/png": "[encoded data removed]"
          },
          "metadata": {}
        },
        {
          "output_type": "stream",
          "name": "stdout",
          "text": [
            "               Close  Tahminler\n",
            "Date                           \n",
            "2022-01-06  1.279782   1.245256\n",
            "2022-01-07  1.211547   1.258855\n",
            "2022-01-08  1.187512   1.218169\n",
            "2022-01-09  1.173860   1.188300\n",
            "2022-01-10  1.128052   1.170742\n",
            "...              ...        ...\n",
            "2023-01-01  0.249771   0.255012\n",
            "2023-01-02  0.253828   0.257141\n",
            "2023-01-03  0.252796   0.260401\n",
            "2023-01-04  0.267677   0.261137\n",
            "2023-01-05  0.265627   0.269747\n",
            "\n",
            "[365 rows x 2 columns]\n"
          ]
        }
      ]
    }
  ]
}