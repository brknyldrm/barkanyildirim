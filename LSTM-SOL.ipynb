{
  "nbformat": 4,
  "nbformat_minor": 0,
  "metadata": {
    "colab": {
      "provenance": []
    },
    "kernelspec": {
      "name": "python3",
      "display_name": "Python 3"
    },
    "language_info": {
      "name": "python"
    }
  },
  "cells": [
    {
      "cell_type": "code",
      "metadata": {
        "id": "NQ5fHC1xWTUC"
      },
      "source": [
        "import math\n",
        "import pandas as pd\n",
        "import numpy as np\n",
        "import matplotlib.pyplot as plt\n",
        "from sklearn.preprocessing import MinMaxScaler\n",
        "from keras.models import Sequential\n",
        "from keras.layers import Dense, LSTM\n",
        "plt.style.use('fivethirtyeight')\n",
        "\n"
      ],
      "execution_count": 75,
      "outputs": []
    },
    {
      "cell_type": "code",
      "source": [
        "from google.colab import files\n",
        "uploaded = files.upload()"
      ],
      "metadata": {
        "colab": {
          "base_uri": "https://localhost:8080/",
          "height": 73
        },
        "id": "oodFcgMv105U",
        "outputId": "0393c4e0-10ac-48fd-9946-e77a59f68c29"
      },
      "execution_count": 76,
      "outputs": [
        {
          "output_type": "display_data",
          "data": {
            "text/plain": [
              "<IPython.core.display.HTML object>"
            ],
            "text/html": [
              "\n",
              "     <input type=\"file\" id=\"files-bb6187d1-4d55-437e-8a19-e0a8e2ee99fd\" name=\"files[]\" multiple disabled\n",
              "        style=\"border:none\" />\n",
              "     <output id=\"result-bb6187d1-4d55-437e-8a19-e0a8e2ee99fd\">\n",
              "      Upload widget is only available when the cell has been executed in the\n",
              "      current browser session. Please rerun this cell to enable.\n",
              "      </output>\n",
              "      <script>// Copyright 2017 Google LLC\n",
              "//\n",
              "// Licensed under the Apache License, Version 2.0 (the \"License\");\n",
              "// you may not use this file except in compliance with the License.\n",
              "// You may obtain a copy of the License at\n",
              "//\n",
              "//      http://www.apache.org/licenses/LICENSE-2.0\n",
              "//\n",
              "// Unless required by applicable law or agreed to in writing, software\n",
              "// distributed under the License is distributed on an \"AS IS\" BASIS,\n",
              "// WITHOUT WARRANTIES OR CONDITIONS OF ANY KIND, either express or implied.\n",
              "// See the License for the specific language governing permissions and\n",
              "// limitations under the License.\n",
              "\n",
              "/**\n",
              " * @fileoverview Helpers for google.colab Python module.\n",
              " */\n",
              "(function(scope) {\n",
              "function span(text, styleAttributes = {}) {\n",
              "  const element = document.createElement('span');\n",
              "  element.textContent = text;\n",
              "  for (const key of Object.keys(styleAttributes)) {\n",
              "    element.style[key] = styleAttributes[key];\n",
              "  }\n",
              "  return element;\n",
              "}\n",
              "\n",
              "// Max number of bytes which will be uploaded at a time.\n",
              "const MAX_PAYLOAD_SIZE = 100 * 1024;\n",
              "\n",
              "function _uploadFiles(inputId, outputId) {\n",
              "  const steps = uploadFilesStep(inputId, outputId);\n",
              "  const outputElement = document.getElementById(outputId);\n",
              "  // Cache steps on the outputElement to make it available for the next call\n",
              "  // to uploadFilesContinue from Python.\n",
              "  outputElement.steps = steps;\n",
              "\n",
              "  return _uploadFilesContinue(outputId);\n",
              "}\n",
              "\n",
              "// This is roughly an async generator (not supported in the browser yet),\n",
              "// where there are multiple asynchronous steps and the Python side is going\n",
              "// to poll for completion of each step.\n",
              "// This uses a Promise to block the python side on completion of each step,\n",
              "// then passes the result of the previous step as the input to the next step.\n",
              "function _uploadFilesContinue(outputId) {\n",
              "  const outputElement = document.getElementById(outputId);\n",
              "  const steps = outputElement.steps;\n",
              "\n",
              "  const next = steps.next(outputElement.lastPromiseValue);\n",
              "  return Promise.resolve(next.value.promise).then((value) => {\n",
              "    // Cache the last promise value to make it available to the next\n",
              "    // step of the generator.\n",
              "    outputElement.lastPromiseValue = value;\n",
              "    return next.value.response;\n",
              "  });\n",
              "}\n",
              "\n",
              "/**\n",
              " * Generator function which is called between each async step of the upload\n",
              " * process.\n",
              " * @param {string} inputId Element ID of the input file picker element.\n",
              " * @param {string} outputId Element ID of the output display.\n",
              " * @return {!Iterable<!Object>} Iterable of next steps.\n",
              " */\n",
              "function* uploadFilesStep(inputId, outputId) {\n",
              "  const inputElement = document.getElementById(inputId);\n",
              "  inputElement.disabled = false;\n",
              "\n",
              "  const outputElement = document.getElementById(outputId);\n",
              "  outputElement.innerHTML = '';\n",
              "\n",
              "  const pickedPromise = new Promise((resolve) => {\n",
              "    inputElement.addEventListener('change', (e) => {\n",
              "      resolve(e.target.files);\n",
              "    });\n",
              "  });\n",
              "\n",
              "  const cancel = document.createElement('button');\n",
              "  inputElement.parentElement.appendChild(cancel);\n",
              "  cancel.textContent = 'Cancel upload';\n",
              "  const cancelPromise = new Promise((resolve) => {\n",
              "    cancel.onclick = () => {\n",
              "      resolve(null);\n",
              "    };\n",
              "  });\n",
              "\n",
              "  // Wait for the user to pick the files.\n",
              "  const files = yield {\n",
              "    promise: Promise.race([pickedPromise, cancelPromise]),\n",
              "    response: {\n",
              "      action: 'starting',\n",
              "    }\n",
              "  };\n",
              "\n",
              "  cancel.remove();\n",
              "\n",
              "  // Disable the input element since further picks are not allowed.\n",
              "  inputElement.disabled = true;\n",
              "\n",
              "  if (!files) {\n",
              "    return {\n",
              "      response: {\n",
              "        action: 'complete',\n",
              "      }\n",
              "    };\n",
              "  }\n",
              "\n",
              "  for (const file of files) {\n",
              "    const li = document.createElement('li');\n",
              "    li.append(span(file.name, {fontWeight: 'bold'}));\n",
              "    li.append(span(\n",
              "        `(${file.type || 'n/a'}) - ${file.size} bytes, ` +\n",
              "        `last modified: ${\n",
              "            file.lastModifiedDate ? file.lastModifiedDate.toLocaleDateString() :\n",
              "                                    'n/a'} - `));\n",
              "    const percent = span('0% done');\n",
              "    li.appendChild(percent);\n",
              "\n",
              "    outputElement.appendChild(li);\n",
              "\n",
              "    const fileDataPromise = new Promise((resolve) => {\n",
              "      const reader = new FileReader();\n",
              "      reader.onload = (e) => {\n",
              "        resolve(e.target.result);\n",
              "      };\n",
              "      reader.readAsArrayBuffer(file);\n",
              "    });\n",
              "    // Wait for the data to be ready.\n",
              "    let fileData = yield {\n",
              "      promise: fileDataPromise,\n",
              "      response: {\n",
              "        action: 'continue',\n",
              "      }\n",
              "    };\n",
              "\n",
              "    // Use a chunked sending to avoid message size limits. See b/62115660.\n",
              "    let position = 0;\n",
              "    do {\n",
              "      const length = Math.min(fileData.byteLength - position, MAX_PAYLOAD_SIZE);\n",
              "      const chunk = new Uint8Array(fileData, position, length);\n",
              "      position += length;\n",
              "\n",
              "      const base64 = btoa(String.fromCharCode.apply(null, chunk));\n",
              "      yield {\n",
              "        response: {\n",
              "          action: 'append',\n",
              "          file: file.name,\n",
              "          data: base64,\n",
              "        },\n",
              "      };\n",
              "\n",
              "      let percentDone = fileData.byteLength === 0 ?\n",
              "          100 :\n",
              "          Math.round((position / fileData.byteLength) * 100);\n",
              "      percent.textContent = `${percentDone}% done`;\n",
              "\n",
              "    } while (position < fileData.byteLength);\n",
              "  }\n",
              "\n",
              "  // All done.\n",
              "  yield {\n",
              "    response: {\n",
              "      action: 'complete',\n",
              "    }\n",
              "  };\n",
              "}\n",
              "\n",
              "scope.google = scope.google || {};\n",
              "scope.google.colab = scope.google.colab || {};\n",
              "scope.google.colab._files = {\n",
              "  _uploadFiles,\n",
              "  _uploadFilesContinue,\n",
              "};\n",
              "})(self);\n",
              "</script> "
            ]
          },
          "metadata": {}
        },
        {
          "output_type": "stream",
          "name": "stdout",
          "text": [
            "Saving SOL-USD.csv to SOL-USD.csv\n"
          ]
        }
      ]
    },
    {
      "cell_type": "code",
      "metadata": {
        "colab": {
          "base_uri": "https://localhost:8080/",
          "height": 455
        },
        "id": "eyuPFtS8asw8",
        "outputId": "2b82e11f-73e4-492e-8cf7-58c5f1e765aa"
      },
      "source": [
        "import io\n",
        "df = pd.read_csv(\"SOL-USD.csv\", index_col=0, parse_dates=True)\n",
        "df.shape\n",
        "df"
      ],
      "execution_count": 77,
      "outputs": [
        {
          "output_type": "execute_result",
          "data": {
            "text/plain": [
              "                 Open       High        Low      Close  Adj Close      Volume\n",
              "Date                                                                         \n",
              "2020-04-10   0.832005   1.313487   0.694187   0.951054   0.951054    87364276\n",
              "2020-04-11   0.951054   1.049073   0.765020   0.776819   0.776819    43862444\n",
              "2020-04-12   0.785448   0.956670   0.762426   0.882507   0.882507    38736897\n",
              "2020-04-13   0.890760   0.891603   0.773976   0.777832   0.777832    18211285\n",
              "2020-04-14   0.777832   0.796472   0.628169   0.661925   0.661925    16747614\n",
              "...               ...        ...        ...        ...        ...         ...\n",
              "2023-01-01   9.961036  10.052801   9.721011   9.982173   9.982173   194221164\n",
              "2023-01-02   9.983222  11.372013   9.845211  11.272967  11.272967   558570124\n",
              "2023-01-03  11.274727  13.500268  11.053267  13.344046  13.344046  1149255381\n",
              "2023-01-04  13.351509  14.095340  12.922946  13.435113  13.435113  1142852070\n",
              "2023-01-05  13.394804  13.404812  13.121064  13.185089  13.185089   763879616\n",
              "\n",
              "[1001 rows x 6 columns]"
            ],
            "text/html": [
              "\n",
              "  <div id=\"df-893fd0a9-06f6-4e66-aec1-d3204718ba7b\">\n",
              "    <div class=\"colab-df-container\">\n",
              "      <div>\n",
              "<style scoped>\n",
              "    .dataframe tbody tr th:only-of-type {\n",
              "        vertical-align: middle;\n",
              "    }\n",
              "\n",
              "    .dataframe tbody tr th {\n",
              "        vertical-align: top;\n",
              "    }\n",
              "\n",
              "    .dataframe thead th {\n",
              "        text-align: right;\n",
              "    }\n",
              "</style>\n",
              "<table border=\"1\" class=\"dataframe\">\n",
              "  <thead>\n",
              "    <tr style=\"text-align: right;\">\n",
              "      <th></th>\n",
              "      <th>Open</th>\n",
              "      <th>High</th>\n",
              "      <th>Low</th>\n",
              "      <th>Close</th>\n",
              "      <th>Adj Close</th>\n",
              "      <th>Volume</th>\n",
              "    </tr>\n",
              "    <tr>\n",
              "      <th>Date</th>\n",
              "      <th></th>\n",
              "      <th></th>\n",
              "      <th></th>\n",
              "      <th></th>\n",
              "      <th></th>\n",
              "      <th></th>\n",
              "    </tr>\n",
              "  </thead>\n",
              "  <tbody>\n",
              "    <tr>\n",
              "      <th>2020-04-10</th>\n",
              "      <td>0.832005</td>\n",
              "      <td>1.313487</td>\n",
              "      <td>0.694187</td>\n",
              "      <td>0.951054</td>\n",
              "      <td>0.951054</td>\n",
              "      <td>87364276</td>\n",
              "    </tr>\n",
              "    <tr>\n",
              "      <th>2020-04-11</th>\n",
              "      <td>0.951054</td>\n",
              "      <td>1.049073</td>\n",
              "      <td>0.765020</td>\n",
              "      <td>0.776819</td>\n",
              "      <td>0.776819</td>\n",
              "      <td>43862444</td>\n",
              "    </tr>\n",
              "    <tr>\n",
              "      <th>2020-04-12</th>\n",
              "      <td>0.785448</td>\n",
              "      <td>0.956670</td>\n",
              "      <td>0.762426</td>\n",
              "      <td>0.882507</td>\n",
              "      <td>0.882507</td>\n",
              "      <td>38736897</td>\n",
              "    </tr>\n",
              "    <tr>\n",
              "      <th>2020-04-13</th>\n",
              "      <td>0.890760</td>\n",
              "      <td>0.891603</td>\n",
              "      <td>0.773976</td>\n",
              "      <td>0.777832</td>\n",
              "      <td>0.777832</td>\n",
              "      <td>18211285</td>\n",
              "    </tr>\n",
              "    <tr>\n",
              "      <th>2020-04-14</th>\n",
              "      <td>0.777832</td>\n",
              "      <td>0.796472</td>\n",
              "      <td>0.628169</td>\n",
              "      <td>0.661925</td>\n",
              "      <td>0.661925</td>\n",
              "      <td>16747614</td>\n",
              "    </tr>\n",
              "    <tr>\n",
              "      <th>...</th>\n",
              "      <td>...</td>\n",
              "      <td>...</td>\n",
              "      <td>...</td>\n",
              "      <td>...</td>\n",
              "      <td>...</td>\n",
              "      <td>...</td>\n",
              "    </tr>\n",
              "    <tr>\n",
              "      <th>2023-01-01</th>\n",
              "      <td>9.961036</td>\n",
              "      <td>10.052801</td>\n",
              "      <td>9.721011</td>\n",
              "      <td>9.982173</td>\n",
              "      <td>9.982173</td>\n",
              "      <td>194221164</td>\n",
              "    </tr>\n",
              "    <tr>\n",
              "      <th>2023-01-02</th>\n",
              "      <td>9.983222</td>\n",
              "      <td>11.372013</td>\n",
              "      <td>9.845211</td>\n",
              "      <td>11.272967</td>\n",
              "      <td>11.272967</td>\n",
              "      <td>558570124</td>\n",
              "    </tr>\n",
              "    <tr>\n",
              "      <th>2023-01-03</th>\n",
              "      <td>11.274727</td>\n",
              "      <td>13.500268</td>\n",
              "      <td>11.053267</td>\n",
              "      <td>13.344046</td>\n",
              "      <td>13.344046</td>\n",
              "      <td>1149255381</td>\n",
              "    </tr>\n",
              "    <tr>\n",
              "      <th>2023-01-04</th>\n",
              "      <td>13.351509</td>\n",
              "      <td>14.095340</td>\n",
              "      <td>12.922946</td>\n",
              "      <td>13.435113</td>\n",
              "      <td>13.435113</td>\n",
              "      <td>1142852070</td>\n",
              "    </tr>\n",
              "    <tr>\n",
              "      <th>2023-01-05</th>\n",
              "      <td>13.394804</td>\n",
              "      <td>13.404812</td>\n",
              "      <td>13.121064</td>\n",
              "      <td>13.185089</td>\n",
              "      <td>13.185089</td>\n",
              "      <td>763879616</td>\n",
              "    </tr>\n",
              "  </tbody>\n",
              "</table>\n",
              "<p>1001 rows × 6 columns</p>\n",
              "</div>\n",
              "      <button class=\"colab-df-convert\" onclick=\"convertToInteractive('df-893fd0a9-06f6-4e66-aec1-d3204718ba7b')\"\n",
              "              title=\"Convert this dataframe to an interactive table.\"\n",
              "              style=\"display:none;\">\n",
              "        \n",
              "  <svg xmlns=\"http://www.w3.org/2000/svg\" height=\"24px\"viewBox=\"0 0 24 24\"\n",
              "       width=\"24px\">\n",
              "    <path d=\"M0 0h24v24H0V0z\" fill=\"none\"/>\n",
              "    <path d=\"M18.56 5.44l.94 2.06.94-2.06 2.06-.94-2.06-.94-.94-2.06-.94 2.06-2.06.94zm-11 1L8.5 8.5l.94-2.06 2.06-.94-2.06-.94L8.5 2.5l-.94 2.06-2.06.94zm10 10l.94 2.06.94-2.06 2.06-.94-2.06-.94-.94-2.06-.94 2.06-2.06.94z\"/><path d=\"M17.41 7.96l-1.37-1.37c-.4-.4-.92-.59-1.43-.59-.52 0-1.04.2-1.43.59L10.3 9.45l-7.72 7.72c-.78.78-.78 2.05 0 2.83L4 21.41c.39.39.9.59 1.41.59.51 0 1.02-.2 1.41-.59l7.78-7.78 2.81-2.81c.8-.78.8-2.07 0-2.86zM5.41 20L4 18.59l7.72-7.72 1.47 1.35L5.41 20z\"/>\n",
              "  </svg>\n",
              "      </button>\n",
              "      \n",
              "  <style>\n",
              "    .colab-df-container {\n",
              "      display:flex;\n",
              "      flex-wrap:wrap;\n",
              "      gap: 12px;\n",
              "    }\n",
              "\n",
              "    .colab-df-convert {\n",
              "      background-color: #E8F0FE;\n",
              "      border: none;\n",
              "      border-radius: 50%;\n",
              "      cursor: pointer;\n",
              "      display: none;\n",
              "      fill: #1967D2;\n",
              "      height: 32px;\n",
              "      padding: 0 0 0 0;\n",
              "      width: 32px;\n",
              "    }\n",
              "\n",
              "    .colab-df-convert:hover {\n",
              "      background-color: #E2EBFA;\n",
              "      box-shadow: 0px 1px 2px rgba(60, 64, 67, 0.3), 0px 1px 3px 1px rgba(60, 64, 67, 0.15);\n",
              "      fill: #174EA6;\n",
              "    }\n",
              "\n",
              "    [theme=dark] .colab-df-convert {\n",
              "      background-color: #3B4455;\n",
              "      fill: #D2E3FC;\n",
              "    }\n",
              "\n",
              "    [theme=dark] .colab-df-convert:hover {\n",
              "      background-color: #434B5C;\n",
              "      box-shadow: 0px 1px 3px 1px rgba(0, 0, 0, 0.15);\n",
              "      filter: drop-shadow(0px 1px 2px rgba(0, 0, 0, 0.3));\n",
              "      fill: #FFFFFF;\n",
              "    }\n",
              "  </style>\n",
              "\n",
              "      <script>\n",
              "        const buttonEl =\n",
              "          document.querySelector('#df-893fd0a9-06f6-4e66-aec1-d3204718ba7b button.colab-df-convert');\n",
              "        buttonEl.style.display =\n",
              "          google.colab.kernel.accessAllowed ? 'block' : 'none';\n",
              "\n",
              "        async function convertToInteractive(key) {\n",
              "          const element = document.querySelector('#df-893fd0a9-06f6-4e66-aec1-d3204718ba7b');\n",
              "          const dataTable =\n",
              "            await google.colab.kernel.invokeFunction('convertToInteractive',\n",
              "                                                     [key], {});\n",
              "          if (!dataTable) return;\n",
              "\n",
              "          const docLinkHtml = 'Like what you see? Visit the ' +\n",
              "            '<a target=\"_blank\" href=https://colab.research.google.com/notebooks/data_table.ipynb>data table notebook</a>'\n",
              "            + ' to learn more about interactive tables.';\n",
              "          element.innerHTML = '';\n",
              "          dataTable['output_type'] = 'display_data';\n",
              "          await google.colab.output.renderOutput(dataTable, element);\n",
              "          const docLink = document.createElement('div');\n",
              "          docLink.innerHTML = docLinkHtml;\n",
              "          element.appendChild(docLink);\n",
              "        }\n",
              "      </script>\n",
              "    </div>\n",
              "  </div>\n",
              "  "
            ]
          },
          "metadata": {},
          "execution_count": 77
        }
      ]
    },
    {
      "cell_type": "code",
      "metadata": {
        "colab": {
          "base_uri": "https://localhost:8080/",
          "height": 575
        },
        "id": "oVEvK0nqbP83",
        "outputId": "49a13a40-31fe-4dbc-ea22-e30e3f824dcb"
      },
      "source": [
        "plt.figure(figsize=(16,8))\n",
        "plt.title(\"Kapanış Fiyatları\")\n",
        "plt.plot(df['Close'])\n",
        "plt.xlabel('Tarih', fontsize=18)\n",
        "plt.ylabel('ETH-USD Açılış Fiyatları', fontsize=18)\n"
      ],
      "execution_count": 78,
      "outputs": [
        {
          "output_type": "execute_result",
          "data": {
            "text/plain": [
              "Text(0, 0.5, 'ETH-USD Açılış Fiyatları')"
            ]
          },
          "metadata": {},
          "execution_count": 78
        },
        {
          "output_type": "display_data",
          "data": {
            "text/plain": [
              "<Figure size 1152x576 with 1 Axes>"
            ],
            "image/png": "[encoded data removed]"
          },
          "metadata": {}
        }
      ]
    },
    {
      "cell_type": "code",
      "metadata": {
        "colab": {
          "base_uri": "https://localhost:8080/"
        },
        "id": "YM8b2n6Sb-me",
        "outputId": "da74deb5-ed9f-42a6-c047-34336551ce3c"
      },
      "source": [
        "data= df.filter(['Close'])\n",
        "dataset= data.values\n",
        "training_data_len = math.ceil(len(dataset) * .8)\n",
        "training_data_len"
      ],
      "execution_count": 79,
      "outputs": [
        {
          "output_type": "execute_result",
          "data": {
            "text/plain": [
              "801"
            ]
          },
          "metadata": {},
          "execution_count": 79
        }
      ]
    },
    {
      "cell_type": "code",
      "metadata": {
        "colab": {
          "base_uri": "https://localhost:8080/"
        },
        "id": "shO16d2Hcd8U",
        "outputId": "4da89641-f115-4f9d-d399-68e535c2625d"
      },
      "source": [
        "scaler = MinMaxScaler(feature_range=(0,1))\n",
        "scaled_data = scaler.fit_transform(dataset)\n",
        "scaled_data"
      ],
      "execution_count": 80,
      "outputs": [
        {
          "output_type": "execute_result",
          "data": {
            "text/plain": [
              "array([[0.00168633],\n",
              "       [0.0010121 ],\n",
              "       [0.00142108],\n",
              "       ...,\n",
              "       [0.04964329],\n",
              "       [0.04999569],\n",
              "       [0.04902818]])"
            ]
          },
          "metadata": {},
          "execution_count": 80
        }
      ]
    },
    {
      "cell_type": "code",
      "metadata": {
        "colab": {
          "base_uri": "https://localhost:8080/"
        },
        "id": "hxf599_wc-w_",
        "outputId": "cafcc1e0-247e-4961-a7a4-6ce6ca4adc24"
      },
      "source": [
        "train_data = scaled_data[0:training_data_len,:]\n",
        "x_train = []\n",
        "y_train = []\n",
        "\n",
        "for i in range(60, len(train_data)):\n",
        "  x_train.append(train_data[i-60:i,0])\n",
        "  y_train.append(train_data[i,0])\n",
        "  if i <= 61:\n",
        "    print(x_train)\n",
        "    print(y_train)\n",
        "    print()"
      ],
      "execution_count": 81,
      "outputs": [
        {
          "output_type": "stream",
          "name": "stdout",
          "text": [
            "[array([1.68633464e-03, 1.01210030e-03, 1.42107943e-03, 1.01602029e-03,\n",
            "       5.67496856e-04, 5.08391307e-04, 6.79295888e-04, 5.62864844e-04,\n",
            "       6.41682562e-04, 3.54834518e-04, 9.10884849e-05, 2.80110925e-04,\n",
            "       6.82333589e-04, 4.34116597e-04, 4.60372401e-04, 4.95536217e-04,\n",
            "       4.65263682e-04, 2.20955070e-04, 5.65051215e-04, 8.92221364e-04,\n",
            "       6.80182045e-04, 8.26258736e-04, 7.76270161e-04, 6.35641986e-04,\n",
            "       5.89035515e-04, 4.89762649e-04, 4.15259629e-04, 3.78087447e-04,\n",
            "       3.46913275e-04, 3.45384750e-04, 8.42081872e-05, 0.00000000e+00,\n",
            "       9.01752395e-05, 1.36441178e-04, 2.08363119e-04, 1.72119662e-04,\n",
            "       3.24461370e-04, 3.78130014e-04, 5.31682933e-04, 4.22495937e-04,\n",
            "       2.47207005e-04, 3.62364922e-04, 4.78300646e-04, 3.78292540e-04,\n",
            "       1.30717916e-04, 3.31183011e-04, 2.24573224e-04, 2.92981493e-04,\n",
            "       2.31724400e-04, 2.48209253e-04, 2.81171218e-04, 2.11861313e-04,\n",
            "       2.40779460e-04, 1.91146897e-04, 2.76094193e-04, 2.78717839e-04,\n",
            "       5.64517199e-04, 4.14714003e-04, 3.92018308e-04, 5.92216395e-04])]\n",
            "[0.0005523160863839245]\n",
            "\n",
            "[array([1.68633464e-03, 1.01210030e-03, 1.42107943e-03, 1.01602029e-03,\n",
            "       5.67496856e-04, 5.08391307e-04, 6.79295888e-04, 5.62864844e-04,\n",
            "       6.41682562e-04, 3.54834518e-04, 9.10884849e-05, 2.80110925e-04,\n",
            "       6.82333589e-04, 4.34116597e-04, 4.60372401e-04, 4.95536217e-04,\n",
            "       4.65263682e-04, 2.20955070e-04, 5.65051215e-04, 8.92221364e-04,\n",
            "       6.80182045e-04, 8.26258736e-04, 7.76270161e-04, 6.35641986e-04,\n",
            "       5.89035515e-04, 4.89762649e-04, 4.15259629e-04, 3.78087447e-04,\n",
            "       3.46913275e-04, 3.45384750e-04, 8.42081872e-05, 0.00000000e+00,\n",
            "       9.01752395e-05, 1.36441178e-04, 2.08363119e-04, 1.72119662e-04,\n",
            "       3.24461370e-04, 3.78130014e-04, 5.31682933e-04, 4.22495937e-04,\n",
            "       2.47207005e-04, 3.62364922e-04, 4.78300646e-04, 3.78292540e-04,\n",
            "       1.30717916e-04, 3.31183011e-04, 2.24573224e-04, 2.92981493e-04,\n",
            "       2.31724400e-04, 2.48209253e-04, 2.81171218e-04, 2.11861313e-04,\n",
            "       2.40779460e-04, 1.91146897e-04, 2.76094193e-04, 2.78717839e-04,\n",
            "       5.64517199e-04, 4.14714003e-04, 3.92018308e-04, 5.92216395e-04]), array([1.01210030e-03, 1.42107943e-03, 1.01602029e-03, 5.67496856e-04,\n",
            "       5.08391307e-04, 6.79295888e-04, 5.62864844e-04, 6.41682562e-04,\n",
            "       3.54834518e-04, 9.10884849e-05, 2.80110925e-04, 6.82333589e-04,\n",
            "       4.34116597e-04, 4.60372401e-04, 4.95536217e-04, 4.65263682e-04,\n",
            "       2.20955070e-04, 5.65051215e-04, 8.92221364e-04, 6.80182045e-04,\n",
            "       8.26258736e-04, 7.76270161e-04, 6.35641986e-04, 5.89035515e-04,\n",
            "       4.89762649e-04, 4.15259629e-04, 3.78087447e-04, 3.46913275e-04,\n",
            "       3.45384750e-04, 8.42081872e-05, 0.00000000e+00, 9.01752395e-05,\n",
            "       1.36441178e-04, 2.08363119e-04, 1.72119662e-04, 3.24461370e-04,\n",
            "       3.78130014e-04, 5.31682933e-04, 4.22495937e-04, 2.47207005e-04,\n",
            "       3.62364922e-04, 4.78300646e-04, 3.78292540e-04, 1.30717916e-04,\n",
            "       3.31183011e-04, 2.24573224e-04, 2.92981493e-04, 2.31724400e-04,\n",
            "       2.48209253e-04, 2.81171218e-04, 2.11861313e-04, 2.40779460e-04,\n",
            "       1.91146897e-04, 2.76094193e-04, 2.78717839e-04, 5.64517199e-04,\n",
            "       4.14714003e-04, 3.92018308e-04, 5.92216395e-04, 5.52316086e-04])]\n",
            "[0.0005523160863839245, 0.0005014877908402519]\n",
            "\n"
          ]
        }
      ]
    },
    {
      "cell_type": "code",
      "metadata": {
        "id": "OYKmSuArdzSX"
      },
      "source": [
        "x_train, y_train = np.array(x_train), np.array(y_train)"
      ],
      "execution_count": 82,
      "outputs": []
    },
    {
      "cell_type": "code",
      "metadata": {
        "colab": {
          "base_uri": "https://localhost:8080/"
        },
        "id": "0gep-zhieFM1",
        "outputId": "df3711a8-1cbd-431e-82c2-93d5208bbc44"
      },
      "source": [
        "x_train = np.reshape(x_train,(x_train.shape[0],x_train.shape[1],1))\n",
        "print(x_train.shape)"
      ],
      "execution_count": 83,
      "outputs": [
        {
          "output_type": "stream",
          "name": "stdout",
          "text": [
            "(741, 60, 1)\n"
          ]
        }
      ]
    },
    {
      "cell_type": "code",
      "metadata": {
        "id": "xi6AjNfegptx"
      },
      "source": [
        "model = Sequential()\n",
        "model.add(LSTM(50, return_sequences=True, input_shape=(x_train.shape[1],1)))\n",
        "model.add(LSTM(50, return_sequences=False))\n",
        "model.add(Dense(25))\n",
        "model.add(Dense(1))"
      ],
      "execution_count": 84,
      "outputs": []
    },
    {
      "cell_type": "code",
      "metadata": {
        "id": "3BEKgZdYhVe9"
      },
      "source": [
        "model.compile(optimizer='Adam', loss='mean_squared_error')"
      ],
      "execution_count": 85,
      "outputs": []
    },
    {
      "cell_type": "code",
      "metadata": {
        "colab": {
          "base_uri": "https://localhost:8080/"
        },
        "id": "m_4Qi50chtj8",
        "outputId": "2dd5a5a1-d34a-4c7f-b0d2-599c6f458784"
      },
      "source": [
        "model.fit(x_train,y_train, batch_size=1,epochs=5)"
      ],
      "execution_count": 86,
      "outputs": [
        {
          "output_type": "stream",
          "name": "stdout",
          "text": [
            "Epoch 1/5\n",
            "741/741 [==============================] - 23s 26ms/step - loss: 0.0041\n",
            "Epoch 2/5\n",
            "741/741 [==============================] - 19s 26ms/step - loss: 0.0020\n",
            "Epoch 3/5\n",
            "741/741 [==============================] - 19s 26ms/step - loss: 0.0013\n",
            "Epoch 4/5\n",
            "741/741 [==============================] - 20s 27ms/step - loss: 0.0016\n",
            "Epoch 5/5\n",
            "741/741 [==============================] - 20s 27ms/step - loss: 0.0010\n"
          ]
        },
        {
          "output_type": "execute_result",
          "data": {
            "text/plain": [
              "<keras.callbacks.History at 0x7fb24b319fa0>"
            ]
          },
          "metadata": {},
          "execution_count": 86
        }
      ]
    },
    {
      "cell_type": "code",
      "metadata": {
        "id": "T-XnOmQ8h2qF"
      },
      "source": [
        "test_data = scaled_data[training_data_len - 60:,:]\n",
        "x_test = []\n",
        "y_test = dataset[training_data_len:,:]\n",
        "for y in range(60,len(test_data)):\n",
        "  x_test.append(test_data[y-60:y,0])\n",
        "  "
      ],
      "execution_count": 87,
      "outputs": []
    },
    {
      "cell_type": "code",
      "metadata": {
        "id": "2Sd884ddiqcE"
      },
      "source": [
        "x_test = np.array(x_test)"
      ],
      "execution_count": 88,
      "outputs": []
    },
    {
      "cell_type": "code",
      "metadata": {
        "id": "A1GMsmjBivs1"
      },
      "source": [
        "x_test = np.reshape(x_test,(x_test.shape[0],x_test.shape[1],1))"
      ],
      "execution_count": 89,
      "outputs": []
    },
    {
      "cell_type": "code",
      "metadata": {
        "id": "QuU3vIMSjML1",
        "colab": {
          "base_uri": "https://localhost:8080/"
        },
        "outputId": "924f5e1a-4ae6-4262-d937-6a6ade3ce0ba"
      },
      "source": [
        "predictions = model.predict(x_test)\n",
        "predictions = scaler.inverse_transform(predictions)"
      ],
      "execution_count": 90,
      "outputs": [
        {
          "output_type": "stream",
          "name": "stdout",
          "text": [
            "7/7 [==============================] - 1s 16ms/step\n"
          ]
        }
      ]
    },
    {
      "cell_type": "code",
      "metadata": {
        "colab": {
          "base_uri": "https://localhost:8080/"
        },
        "id": "0SR33yrcjc1v",
        "outputId": "c491d93f-8423-4ded-b5ef-d92dde5fc1f1"
      },
      "source": [
        "rmse = np.sqrt(np.mean(predictions - y_test)**2)\n",
        "rmse"
      ],
      "execution_count": 91,
      "outputs": [
        {
          "output_type": "execute_result",
          "data": {
            "text/plain": [
              "5.075403176354981"
            ]
          },
          "metadata": {},
          "execution_count": 91
        }
      ]
    },
    {
      "cell_type": "code",
      "metadata": {
        "colab": {
          "base_uri": "https://localhost:8080/",
          "height": 923
        },
        "id": "JXfxBZH0juq7",
        "outputId": "45b7dc56-b9f5-4ec9-a3d2-284ae495290f"
      },
      "source": [
        "train = data[:training_data_len]\n",
        "valid = data[training_data_len:]\n",
        "valid['Tahminler'] = predictions\n",
        "\n",
        "plt.figure(figsize=(16,8))\n",
        "plt.title('Model')\n",
        "plt.xlabel('Tarih',fontsize=18)\n",
        "plt.ylabel('Kapanış Fiyatları',fontsize=18)\n",
        "plt.plot(train['Close'])\n",
        "plt.plot(valid[['Close','Tahminler']])\n",
        "plt.legend(['Eğitilen Alan','Değer','Tahminler'])\n",
        "plt.show()\n",
        "print(valid)"
      ],
      "execution_count": 92,
      "outputs": [
        {
          "output_type": "stream",
          "name": "stderr",
          "text": [
            "<ipython-input-92-87bcbd9c370a>:3: SettingWithCopyWarning: \n",
            "A value is trying to be set on a copy of a slice from a DataFrame.\n",
            "Try using .loc[row_indexer,col_indexer] = value instead\n",
            "\n",
            "See the caveats in the documentation: https://pandas.pydata.org/pandas-docs/stable/user_guide/indexing.html#returning-a-view-versus-a-copy\n",
            "  valid['Tahminler'] = predictions\n"
          ]
        },
        {
          "output_type": "display_data",
          "data": {
            "text/plain": [
              "<Figure size 1152x576 with 1 Axes>"
            ],
            "image/png": "[encoded data removed]"
          },
          "metadata": {}
        },
        {
          "output_type": "stream",
          "name": "stdout",
          "text": [
            "                Close  Tahminler\n",
            "Date                            \n",
            "2022-06-20  35.417114  37.855171\n",
            "2022-06-21  36.121159  39.518227\n",
            "2022-06-22  34.121635  40.879818\n",
            "2022-06-23  38.175232  40.698147\n",
            "2022-06-24  42.212048  41.986496\n",
            "...               ...        ...\n",
            "2023-01-01   9.982173  13.381638\n",
            "2023-01-02  11.272967  13.437962\n",
            "2023-01-03  13.344046  14.039142\n",
            "2023-01-04  13.435113  15.430167\n",
            "2023-01-05  13.185089  16.561728\n",
            "\n",
            "[200 rows x 2 columns]\n"
          ]
        }
      ]
    }
  ]
}