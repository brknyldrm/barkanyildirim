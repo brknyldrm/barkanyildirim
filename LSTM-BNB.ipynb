{
  "nbformat": 4,
  "nbformat_minor": 0,
  "metadata": {
    "colab": {
      "provenance": []
    },
    "kernelspec": {
      "name": "python3",
      "display_name": "Python 3"
    },
    "language_info": {
      "name": "python"
    }
  },
  "cells": [
    {
      "cell_type": "code",
      "metadata": {
        "id": "NQ5fHC1xWTUC"
      },
      "source": [
        "import math\n",
        "import pandas as pd\n",
        "import numpy as np\n",
        "import matplotlib.pyplot as plt\n",
        "from sklearn.preprocessing import MinMaxScaler\n",
        "from keras.models import Sequential\n",
        "from keras.layers import Dense, LSTM\n",
        "plt.style.use('fivethirtyeight')\n",
        "\n"
      ],
      "execution_count": 57,
      "outputs": []
    },
    {
      "cell_type": "code",
      "source": [
        "from google.colab import files\n",
        "uploaded = files.upload()"
      ],
      "metadata": {
        "colab": {
          "base_uri": "https://localhost:8080/",
          "height": 73
        },
        "id": "oodFcgMv105U",
        "outputId": "3844e3ff-5965-49e0-9c74-4daa73db199c"
      },
      "execution_count": 58,
      "outputs": [
        {
          "output_type": "display_data",
          "data": {
            "text/plain": [
              "<IPython.core.display.HTML object>"
            ],
            "text/html": [
              "\n",
              "     <input type=\"file\" id=\"files-c6d204db-b2bf-45f7-a3ee-ba77b598a001\" name=\"files[]\" multiple disabled\n",
              "        style=\"border:none\" />\n",
              "     <output id=\"result-c6d204db-b2bf-45f7-a3ee-ba77b598a001\">\n",
              "      Upload widget is only available when the cell has been executed in the\n",
              "      current browser session. Please rerun this cell to enable.\n",
              "      </output>\n",
              "      <script>// Copyright 2017 Google LLC\n",
              "//\n",
              "// Licensed under the Apache License, Version 2.0 (the \"License\");\n",
              "// you may not use this file except in compliance with the License.\n",
              "// You may obtain a copy of the License at\n",
              "//\n",
              "//      http://www.apache.org/licenses/LICENSE-2.0\n",
              "//\n",
              "// Unless required by applicable law or agreed to in writing, software\n",
              "// distributed under the License is distributed on an \"AS IS\" BASIS,\n",
              "// WITHOUT WARRANTIES OR CONDITIONS OF ANY KIND, either express or implied.\n",
              "// See the License for the specific language governing permissions and\n",
              "// limitations under the License.\n",
              "\n",
              "/**\n",
              " * @fileoverview Helpers for google.colab Python module.\n",
              " */\n",
              "(function(scope) {\n",
              "function span(text, styleAttributes = {}) {\n",
              "  const element = document.createElement('span');\n",
              "  element.textContent = text;\n",
              "  for (const key of Object.keys(styleAttributes)) {\n",
              "    element.style[key] = styleAttributes[key];\n",
              "  }\n",
              "  return element;\n",
              "}\n",
              "\n",
              "// Max number of bytes which will be uploaded at a time.\n",
              "const MAX_PAYLOAD_SIZE = 100 * 1024;\n",
              "\n",
              "function _uploadFiles(inputId, outputId) {\n",
              "  const steps = uploadFilesStep(inputId, outputId);\n",
              "  const outputElement = document.getElementById(outputId);\n",
              "  // Cache steps on the outputElement to make it available for the next call\n",
              "  // to uploadFilesContinue from Python.\n",
              "  outputElement.steps = steps;\n",
              "\n",
              "  return _uploadFilesContinue(outputId);\n",
              "}\n",
              "\n",
              "// This is roughly an async generator (not supported in the browser yet),\n",
              "// where there are multiple asynchronous steps and the Python side is going\n",
              "// to poll for completion of each step.\n",
              "// This uses a Promise to block the python side on completion of each step,\n",
              "// then passes the result of the previous step as the input to the next step.\n",
              "function _uploadFilesContinue(outputId) {\n",
              "  const outputElement = document.getElementById(outputId);\n",
              "  const steps = outputElement.steps;\n",
              "\n",
              "  const next = steps.next(outputElement.lastPromiseValue);\n",
              "  return Promise.resolve(next.value.promise).then((value) => {\n",
              "    // Cache the last promise value to make it available to the next\n",
              "    // step of the generator.\n",
              "    outputElement.lastPromiseValue = value;\n",
              "    return next.value.response;\n",
              "  });\n",
              "}\n",
              "\n",
              "/**\n",
              " * Generator function which is called between each async step of the upload\n",
              " * process.\n",
              " * @param {string} inputId Element ID of the input file picker element.\n",
              " * @param {string} outputId Element ID of the output display.\n",
              " * @return {!Iterable<!Object>} Iterable of next steps.\n",
              " */\n",
              "function* uploadFilesStep(inputId, outputId) {\n",
              "  const inputElement = document.getElementById(inputId);\n",
              "  inputElement.disabled = false;\n",
              "\n",
              "  const outputElement = document.getElementById(outputId);\n",
              "  outputElement.innerHTML = '';\n",
              "\n",
              "  const pickedPromise = new Promise((resolve) => {\n",
              "    inputElement.addEventListener('change', (e) => {\n",
              "      resolve(e.target.files);\n",
              "    });\n",
              "  });\n",
              "\n",
              "  const cancel = document.createElement('button');\n",
              "  inputElement.parentElement.appendChild(cancel);\n",
              "  cancel.textContent = 'Cancel upload';\n",
              "  const cancelPromise = new Promise((resolve) => {\n",
              "    cancel.onclick = () => {\n",
              "      resolve(null);\n",
              "    };\n",
              "  });\n",
              "\n",
              "  // Wait for the user to pick the files.\n",
              "  const files = yield {\n",
              "    promise: Promise.race([pickedPromise, cancelPromise]),\n",
              "    response: {\n",
              "      action: 'starting',\n",
              "    }\n",
              "  };\n",
              "\n",
              "  cancel.remove();\n",
              "\n",
              "  // Disable the input element since further picks are not allowed.\n",
              "  inputElement.disabled = true;\n",
              "\n",
              "  if (!files) {\n",
              "    return {\n",
              "      response: {\n",
              "        action: 'complete',\n",
              "      }\n",
              "    };\n",
              "  }\n",
              "\n",
              "  for (const file of files) {\n",
              "    const li = document.createElement('li');\n",
              "    li.append(span(file.name, {fontWeight: 'bold'}));\n",
              "    li.append(span(\n",
              "        `(${file.type || 'n/a'}) - ${file.size} bytes, ` +\n",
              "        `last modified: ${\n",
              "            file.lastModifiedDate ? file.lastModifiedDate.toLocaleDateString() :\n",
              "                                    'n/a'} - `));\n",
              "    const percent = span('0% done');\n",
              "    li.appendChild(percent);\n",
              "\n",
              "    outputElement.appendChild(li);\n",
              "\n",
              "    const fileDataPromise = new Promise((resolve) => {\n",
              "      const reader = new FileReader();\n",
              "      reader.onload = (e) => {\n",
              "        resolve(e.target.result);\n",
              "      };\n",
              "      reader.readAsArrayBuffer(file);\n",
              "    });\n",
              "    // Wait for the data to be ready.\n",
              "    let fileData = yield {\n",
              "      promise: fileDataPromise,\n",
              "      response: {\n",
              "        action: 'continue',\n",
              "      }\n",
              "    };\n",
              "\n",
              "    // Use a chunked sending to avoid message size limits. See b/62115660.\n",
              "    let position = 0;\n",
              "    do {\n",
              "      const length = Math.min(fileData.byteLength - position, MAX_PAYLOAD_SIZE);\n",
              "      const chunk = new Uint8Array(fileData, position, length);\n",
              "      position += length;\n",
              "\n",
              "      const base64 = btoa(String.fromCharCode.apply(null, chunk));\n",
              "      yield {\n",
              "        response: {\n",
              "          action: 'append',\n",
              "          file: file.name,\n",
              "          data: base64,\n",
              "        },\n",
              "      };\n",
              "\n",
              "      let percentDone = fileData.byteLength === 0 ?\n",
              "          100 :\n",
              "          Math.round((position / fileData.byteLength) * 100);\n",
              "      percent.textContent = `${percentDone}% done`;\n",
              "\n",
              "    } while (position < fileData.byteLength);\n",
              "  }\n",
              "\n",
              "  // All done.\n",
              "  yield {\n",
              "    response: {\n",
              "      action: 'complete',\n",
              "    }\n",
              "  };\n",
              "}\n",
              "\n",
              "scope.google = scope.google || {};\n",
              "scope.google.colab = scope.google.colab || {};\n",
              "scope.google.colab._files = {\n",
              "  _uploadFiles,\n",
              "  _uploadFilesContinue,\n",
              "};\n",
              "})(self);\n",
              "</script> "
            ]
          },
          "metadata": {}
        },
        {
          "output_type": "stream",
          "name": "stdout",
          "text": [
            "Saving BNB-USD.csv to BNB-USD.csv\n"
          ]
        }
      ]
    },
    {
      "cell_type": "code",
      "metadata": {
        "colab": {
          "base_uri": "https://localhost:8080/",
          "height": 455
        },
        "id": "eyuPFtS8asw8",
        "outputId": "258a0807-4183-459f-98ed-8774a76a8cfa"
      },
      "source": [
        "import io\n",
        "df = pd.read_csv(\"BNB-USD.csv\", index_col=0, parse_dates=True)\n",
        "df.shape\n",
        "df"
      ],
      "execution_count": 59,
      "outputs": [
        {
          "output_type": "execute_result",
          "data": {
            "text/plain": [
              "                  Open        High         Low       Close   Adj Close  \\\n",
              "Date                                                                     \n",
              "2018-01-05    9.145680   16.717699    9.094680   14.917200   14.917200   \n",
              "2018-01-06   14.868900   23.508200   14.821200   22.759800   22.759800   \n",
              "2018-01-07   22.769100   22.769100   18.242500   18.656799   18.656799   \n",
              "2018-01-08   18.646500   19.216700   15.347100   18.260900   18.260900   \n",
              "2018-01-09   18.174000   20.320299   16.801399   17.411800   17.411800   \n",
              "...                ...         ...         ...         ...         ...   \n",
              "2023-01-01  246.332901  246.485809  243.575287  244.136978  244.136978   \n",
              "2023-01-02  244.152222  247.715271  241.692490  245.535904  245.535904   \n",
              "2023-01-03  245.552139  246.831451  244.784042  246.133362  246.133362   \n",
              "2023-01-04  246.140900  260.516052  245.704971  259.119690  259.119690   \n",
              "2023-01-05  258.904297  258.908417  256.897491  257.186127  257.186127   \n",
              "\n",
              "               Volume  \n",
              "Date                   \n",
              "2018-01-05  341504992  \n",
              "2018-01-06  637020992  \n",
              "2018-01-07  258050000  \n",
              "2018-01-08  296617984  \n",
              "2018-01-09  194750000  \n",
              "...               ...  \n",
              "2023-01-01  278651737  \n",
              "2023-01-02  357733262  \n",
              "2023-01-03  377452410  \n",
              "2023-01-04  632924961  \n",
              "2023-01-05  468461792  \n",
              "\n",
              "[1827 rows x 6 columns]"
            ],
            "text/html": [
              "\n",
              "  <div id=\"df-0643c079-0299-45af-bde9-cab1bc31eecd\">\n",
              "    <div class=\"colab-df-container\">\n",
              "      <div>\n",
              "<style scoped>\n",
              "    .dataframe tbody tr th:only-of-type {\n",
              "        vertical-align: middle;\n",
              "    }\n",
              "\n",
              "    .dataframe tbody tr th {\n",
              "        vertical-align: top;\n",
              "    }\n",
              "\n",
              "    .dataframe thead th {\n",
              "        text-align: right;\n",
              "    }\n",
              "</style>\n",
              "<table border=\"1\" class=\"dataframe\">\n",
              "  <thead>\n",
              "    <tr style=\"text-align: right;\">\n",
              "      <th></th>\n",
              "      <th>Open</th>\n",
              "      <th>High</th>\n",
              "      <th>Low</th>\n",
              "      <th>Close</th>\n",
              "      <th>Adj Close</th>\n",
              "      <th>Volume</th>\n",
              "    </tr>\n",
              "    <tr>\n",
              "      <th>Date</th>\n",
              "      <th></th>\n",
              "      <th></th>\n",
              "      <th></th>\n",
              "      <th></th>\n",
              "      <th></th>\n",
              "      <th></th>\n",
              "    </tr>\n",
              "  </thead>\n",
              "  <tbody>\n",
              "    <tr>\n",
              "      <th>2018-01-05</th>\n",
              "      <td>9.145680</td>\n",
              "      <td>16.717699</td>\n",
              "      <td>9.094680</td>\n",
              "      <td>14.917200</td>\n",
              "      <td>14.917200</td>\n",
              "      <td>341504992</td>\n",
              "    </tr>\n",
              "    <tr>\n",
              "      <th>2018-01-06</th>\n",
              "      <td>14.868900</td>\n",
              "      <td>23.508200</td>\n",
              "      <td>14.821200</td>\n",
              "      <td>22.759800</td>\n",
              "      <td>22.759800</td>\n",
              "      <td>637020992</td>\n",
              "    </tr>\n",
              "    <tr>\n",
              "      <th>2018-01-07</th>\n",
              "      <td>22.769100</td>\n",
              "      <td>22.769100</td>\n",
              "      <td>18.242500</td>\n",
              "      <td>18.656799</td>\n",
              "      <td>18.656799</td>\n",
              "      <td>258050000</td>\n",
              "    </tr>\n",
              "    <tr>\n",
              "      <th>2018-01-08</th>\n",
              "      <td>18.646500</td>\n",
              "      <td>19.216700</td>\n",
              "      <td>15.347100</td>\n",
              "      <td>18.260900</td>\n",
              "      <td>18.260900</td>\n",
              "      <td>296617984</td>\n",
              "    </tr>\n",
              "    <tr>\n",
              "      <th>2018-01-09</th>\n",
              "      <td>18.174000</td>\n",
              "      <td>20.320299</td>\n",
              "      <td>16.801399</td>\n",
              "      <td>17.411800</td>\n",
              "      <td>17.411800</td>\n",
              "      <td>194750000</td>\n",
              "    </tr>\n",
              "    <tr>\n",
              "      <th>...</th>\n",
              "      <td>...</td>\n",
              "      <td>...</td>\n",
              "      <td>...</td>\n",
              "      <td>...</td>\n",
              "      <td>...</td>\n",
              "      <td>...</td>\n",
              "    </tr>\n",
              "    <tr>\n",
              "      <th>2023-01-01</th>\n",
              "      <td>246.332901</td>\n",
              "      <td>246.485809</td>\n",
              "      <td>243.575287</td>\n",
              "      <td>244.136978</td>\n",
              "      <td>244.136978</td>\n",
              "      <td>278651737</td>\n",
              "    </tr>\n",
              "    <tr>\n",
              "      <th>2023-01-02</th>\n",
              "      <td>244.152222</td>\n",
              "      <td>247.715271</td>\n",
              "      <td>241.692490</td>\n",
              "      <td>245.535904</td>\n",
              "      <td>245.535904</td>\n",
              "      <td>357733262</td>\n",
              "    </tr>\n",
              "    <tr>\n",
              "      <th>2023-01-03</th>\n",
              "      <td>245.552139</td>\n",
              "      <td>246.831451</td>\n",
              "      <td>244.784042</td>\n",
              "      <td>246.133362</td>\n",
              "      <td>246.133362</td>\n",
              "      <td>377452410</td>\n",
              "    </tr>\n",
              "    <tr>\n",
              "      <th>2023-01-04</th>\n",
              "      <td>246.140900</td>\n",
              "      <td>260.516052</td>\n",
              "      <td>245.704971</td>\n",
              "      <td>259.119690</td>\n",
              "      <td>259.119690</td>\n",
              "      <td>632924961</td>\n",
              "    </tr>\n",
              "    <tr>\n",
              "      <th>2023-01-05</th>\n",
              "      <td>258.904297</td>\n",
              "      <td>258.908417</td>\n",
              "      <td>256.897491</td>\n",
              "      <td>257.186127</td>\n",
              "      <td>257.186127</td>\n",
              "      <td>468461792</td>\n",
              "    </tr>\n",
              "  </tbody>\n",
              "</table>\n",
              "<p>1827 rows × 6 columns</p>\n",
              "</div>\n",
              "      <button class=\"colab-df-convert\" onclick=\"convertToInteractive('df-0643c079-0299-45af-bde9-cab1bc31eecd')\"\n",
              "              title=\"Convert this dataframe to an interactive table.\"\n",
              "              style=\"display:none;\">\n",
              "        \n",
              "  <svg xmlns=\"http://www.w3.org/2000/svg\" height=\"24px\"viewBox=\"0 0 24 24\"\n",
              "       width=\"24px\">\n",
              "    <path d=\"M0 0h24v24H0V0z\" fill=\"none\"/>\n",
              "    <path d=\"M18.56 5.44l.94 2.06.94-2.06 2.06-.94-2.06-.94-.94-2.06-.94 2.06-2.06.94zm-11 1L8.5 8.5l.94-2.06 2.06-.94-2.06-.94L8.5 2.5l-.94 2.06-2.06.94zm10 10l.94 2.06.94-2.06 2.06-.94-2.06-.94-.94-2.06-.94 2.06-2.06.94z\"/><path d=\"M17.41 7.96l-1.37-1.37c-.4-.4-.92-.59-1.43-.59-.52 0-1.04.2-1.43.59L10.3 9.45l-7.72 7.72c-.78.78-.78 2.05 0 2.83L4 21.41c.39.39.9.59 1.41.59.51 0 1.02-.2 1.41-.59l7.78-7.78 2.81-2.81c.8-.78.8-2.07 0-2.86zM5.41 20L4 18.59l7.72-7.72 1.47 1.35L5.41 20z\"/>\n",
              "  </svg>\n",
              "      </button>\n",
              "      \n",
              "  <style>\n",
              "    .colab-df-container {\n",
              "      display:flex;\n",
              "      flex-wrap:wrap;\n",
              "      gap: 12px;\n",
              "    }\n",
              "\n",
              "    .colab-df-convert {\n",
              "      background-color: #E8F0FE;\n",
              "      border: none;\n",
              "      border-radius: 50%;\n",
              "      cursor: pointer;\n",
              "      display: none;\n",
              "      fill: #1967D2;\n",
              "      height: 32px;\n",
              "      padding: 0 0 0 0;\n",
              "      width: 32px;\n",
              "    }\n",
              "\n",
              "    .colab-df-convert:hover {\n",
              "      background-color: #E2EBFA;\n",
              "      box-shadow: 0px 1px 2px rgba(60, 64, 67, 0.3), 0px 1px 3px 1px rgba(60, 64, 67, 0.15);\n",
              "      fill: #174EA6;\n",
              "    }\n",
              "\n",
              "    [theme=dark] .colab-df-convert {\n",
              "      background-color: #3B4455;\n",
              "      fill: #D2E3FC;\n",
              "    }\n",
              "\n",
              "    [theme=dark] .colab-df-convert:hover {\n",
              "      background-color: #434B5C;\n",
              "      box-shadow: 0px 1px 3px 1px rgba(0, 0, 0, 0.15);\n",
              "      filter: drop-shadow(0px 1px 2px rgba(0, 0, 0, 0.3));\n",
              "      fill: #FFFFFF;\n",
              "    }\n",
              "  </style>\n",
              "\n",
              "      <script>\n",
              "        const buttonEl =\n",
              "          document.querySelector('#df-0643c079-0299-45af-bde9-cab1bc31eecd button.colab-df-convert');\n",
              "        buttonEl.style.display =\n",
              "          google.colab.kernel.accessAllowed ? 'block' : 'none';\n",
              "\n",
              "        async function convertToInteractive(key) {\n",
              "          const element = document.querySelector('#df-0643c079-0299-45af-bde9-cab1bc31eecd');\n",
              "          const dataTable =\n",
              "            await google.colab.kernel.invokeFunction('convertToInteractive',\n",
              "                                                     [key], {});\n",
              "          if (!dataTable) return;\n",
              "\n",
              "          const docLinkHtml = 'Like what you see? Visit the ' +\n",
              "            '<a target=\"_blank\" href=https://colab.research.google.com/notebooks/data_table.ipynb>data table notebook</a>'\n",
              "            + ' to learn more about interactive tables.';\n",
              "          element.innerHTML = '';\n",
              "          dataTable['output_type'] = 'display_data';\n",
              "          await google.colab.output.renderOutput(dataTable, element);\n",
              "          const docLink = document.createElement('div');\n",
              "          docLink.innerHTML = docLinkHtml;\n",
              "          element.appendChild(docLink);\n",
              "        }\n",
              "      </script>\n",
              "    </div>\n",
              "  </div>\n",
              "  "
            ]
          },
          "metadata": {},
          "execution_count": 59
        }
      ]
    },
    {
      "cell_type": "code",
      "metadata": {
        "colab": {
          "base_uri": "https://localhost:8080/",
          "height": 575
        },
        "id": "oVEvK0nqbP83",
        "outputId": "4b5faee6-1148-4275-afc1-59d056e8f982"
      },
      "source": [
        "plt.figure(figsize=(16,8))\n",
        "plt.title(\"Kapanış Fiyatları\")\n",
        "plt.plot(df['Close'])\n",
        "plt.xlabel('Tarih', fontsize=18)\n",
        "plt.ylabel('ETH-USD Açılış Fiyatları', fontsize=18)\n"
      ],
      "execution_count": 60,
      "outputs": [
        {
          "output_type": "execute_result",
          "data": {
            "text/plain": [
              "Text(0, 0.5, 'ETH-USD Açılış Fiyatları')"
            ]
          },
          "metadata": {},
          "execution_count": 60
        },
        {
          "output_type": "display_data",
          "data": {
            "text/plain": [
              "<Figure size 1152x576 with 1 Axes>"
            ],
            "image/png": "[encoded data removed]"
          },
          "metadata": {}
        }
      ]
    },
    {
      "cell_type": "code",
      "metadata": {
        "colab": {
          "base_uri": "https://localhost:8080/"
        },
        "id": "YM8b2n6Sb-me",
        "outputId": "9d87c010-b9da-4193-914f-0c5db1cec624"
      },
      "source": [
        "data= df.filter(['Close'])\n",
        "dataset= data.values\n",
        "training_data_len = math.ceil(len(dataset) * .8)\n",
        "training_data_len"
      ],
      "execution_count": 61,
      "outputs": [
        {
          "output_type": "execute_result",
          "data": {
            "text/plain": [
              "1462"
            ]
          },
          "metadata": {},
          "execution_count": 61
        }
      ]
    },
    {
      "cell_type": "code",
      "metadata": {
        "colab": {
          "base_uri": "https://localhost:8080/"
        },
        "id": "shO16d2Hcd8U",
        "outputId": "fea467af-8721-4fec-cb4c-32ffd0264a4c"
      },
      "source": [
        "scaler = MinMaxScaler(feature_range=(0,1))\n",
        "scaled_data = scaler.fit_transform(dataset)\n",
        "scaled_data"
      ],
      "execution_count": 62,
      "outputs": [
        {
          "output_type": "execute_result",
          "data": {
            "text/plain": [
              "array([[0.01547861],\n",
              "       [0.02716383],\n",
              "       [0.02105049],\n",
              "       ...,\n",
              "       [0.35998325],\n",
              "       [0.37933246],\n",
              "       [0.37645151]])"
            ]
          },
          "metadata": {},
          "execution_count": 62
        }
      ]
    },
    {
      "cell_type": "code",
      "metadata": {
        "colab": {
          "base_uri": "https://localhost:8080/"
        },
        "id": "hxf599_wc-w_",
        "outputId": "db0ebb11-fef7-4310-fdba-f26f695291a9"
      },
      "source": [
        "train_data = scaled_data[0:training_data_len,:]\n",
        "x_train = []\n",
        "y_train = []\n",
        "\n",
        "for i in range(60, len(train_data)):\n",
        "  x_train.append(train_data[i-60:i,0])\n",
        "  y_train.append(train_data[i,0])\n",
        "  if i <= 61:\n",
        "    print(x_train)\n",
        "    print(y_train)\n",
        "    print()"
      ],
      "execution_count": 63,
      "outputs": [
        {
          "output_type": "stream",
          "name": "stdout",
          "text": [
            "[array([0.01547861, 0.02716383, 0.02105049, 0.02046061, 0.01919548,\n",
            "       0.01916419, 0.0246054 , 0.02650302, 0.0262916 , 0.02420997,\n",
            "       0.02240323, 0.01395094, 0.01441477, 0.01452979, 0.01551347,\n",
            "       0.01737548, 0.01421377, 0.01264379, 0.01276135, 0.01355878,\n",
            "       0.01296235, 0.01294715, 0.012999  , 0.01342692, 0.01227115,\n",
            "       0.01001564, 0.00985815, 0.00743075, 0.00763406, 0.00777917,\n",
            "       0.00585556, 0.00324274, 0.00560258, 0.00531376, 0.00605948,\n",
            "       0.00775053, 0.00704355, 0.00622249, 0.00714264, 0.00664247,\n",
            "       0.00874902, 0.00953944, 0.00994248, 0.01066914, 0.00919869,\n",
            "       0.00975489, 0.00800986, 0.00722953, 0.00651918, 0.00769339,\n",
            "       0.00687361, 0.00717859, 0.0080066 , 0.00913537, 0.00880504,\n",
            "       0.00891157, 0.00848708, 0.0084768 , 0.00867079, 0.00831678])]\n",
            "[0.00723488147228465]\n",
            "\n",
            "[array([0.01547861, 0.02716383, 0.02105049, 0.02046061, 0.01919548,\n",
            "       0.01916419, 0.0246054 , 0.02650302, 0.0262916 , 0.02420997,\n",
            "       0.02240323, 0.01395094, 0.01441477, 0.01452979, 0.01551347,\n",
            "       0.01737548, 0.01421377, 0.01264379, 0.01276135, 0.01355878,\n",
            "       0.01296235, 0.01294715, 0.012999  , 0.01342692, 0.01227115,\n",
            "       0.01001564, 0.00985815, 0.00743075, 0.00763406, 0.00777917,\n",
            "       0.00585556, 0.00324274, 0.00560258, 0.00531376, 0.00605948,\n",
            "       0.00775053, 0.00704355, 0.00622249, 0.00714264, 0.00664247,\n",
            "       0.00874902, 0.00953944, 0.00994248, 0.01066914, 0.00919869,\n",
            "       0.00975489, 0.00800986, 0.00722953, 0.00651918, 0.00769339,\n",
            "       0.00687361, 0.00717859, 0.0080066 , 0.00913537, 0.00880504,\n",
            "       0.00891157, 0.00848708, 0.0084768 , 0.00867079, 0.00831678]), array([0.02716383, 0.02105049, 0.02046061, 0.01919548, 0.01916419,\n",
            "       0.0246054 , 0.02650302, 0.0262916 , 0.02420997, 0.02240323,\n",
            "       0.01395094, 0.01441477, 0.01452979, 0.01551347, 0.01737548,\n",
            "       0.01421377, 0.01264379, 0.01276135, 0.01355878, 0.01296235,\n",
            "       0.01294715, 0.012999  , 0.01342692, 0.01227115, 0.01001564,\n",
            "       0.00985815, 0.00743075, 0.00763406, 0.00777917, 0.00585556,\n",
            "       0.00324274, 0.00560258, 0.00531376, 0.00605948, 0.00775053,\n",
            "       0.00704355, 0.00622249, 0.00714264, 0.00664247, 0.00874902,\n",
            "       0.00953944, 0.00994248, 0.01066914, 0.00919869, 0.00975489,\n",
            "       0.00800986, 0.00722953, 0.00651918, 0.00769339, 0.00687361,\n",
            "       0.00717859, 0.0080066 , 0.00913537, 0.00880504, 0.00891157,\n",
            "       0.00848708, 0.0084768 , 0.00867079, 0.00831678, 0.00723488])]\n",
            "[0.00723488147228465, 0.00671413771705866]\n",
            "\n"
          ]
        }
      ]
    },
    {
      "cell_type": "code",
      "metadata": {
        "id": "OYKmSuArdzSX"
      },
      "source": [
        "x_train, y_train = np.array(x_train), np.array(y_train)"
      ],
      "execution_count": 64,
      "outputs": []
    },
    {
      "cell_type": "code",
      "metadata": {
        "colab": {
          "base_uri": "https://localhost:8080/"
        },
        "id": "0gep-zhieFM1",
        "outputId": "f9bb0085-7c06-45a5-cefd-6b8d5d835e1a"
      },
      "source": [
        "x_train = np.reshape(x_train,(x_train.shape[0],x_train.shape[1],1))\n",
        "print(x_train.shape)"
      ],
      "execution_count": 65,
      "outputs": [
        {
          "output_type": "stream",
          "name": "stdout",
          "text": [
            "(1402, 60, 1)\n"
          ]
        }
      ]
    },
    {
      "cell_type": "code",
      "metadata": {
        "id": "xi6AjNfegptx"
      },
      "source": [
        "model = Sequential()\n",
        "model.add(LSTM(50, return_sequences=True, input_shape=(x_train.shape[1],1)))\n",
        "model.add(LSTM(50, return_sequences=False))\n",
        "model.add(Dense(25))\n",
        "model.add(Dense(1))"
      ],
      "execution_count": 66,
      "outputs": []
    },
    {
      "cell_type": "code",
      "metadata": {
        "id": "3BEKgZdYhVe9"
      },
      "source": [
        "model.compile(optimizer='Adam', loss='mean_squared_error')"
      ],
      "execution_count": 67,
      "outputs": []
    },
    {
      "cell_type": "code",
      "metadata": {
        "colab": {
          "base_uri": "https://localhost:8080/"
        },
        "id": "m_4Qi50chtj8",
        "outputId": "0a2e6fdc-0da2-4edf-fbbb-0fcd8d81efd2"
      },
      "source": [
        "model.fit(x_train,y_train, batch_size=1,epochs=5)"
      ],
      "execution_count": 68,
      "outputs": [
        {
          "output_type": "stream",
          "name": "stdout",
          "text": [
            "Epoch 1/5\n",
            "1402/1402 [==============================] - 40s 26ms/step - loss: 0.0033\n",
            "Epoch 2/5\n",
            "1402/1402 [==============================] - 38s 27ms/step - loss: 0.0016\n",
            "Epoch 3/5\n",
            "1402/1402 [==============================] - 36s 26ms/step - loss: 0.0012\n",
            "Epoch 4/5\n",
            "1402/1402 [==============================] - 38s 27ms/step - loss: 8.7457e-04\n",
            "Epoch 5/5\n",
            "1402/1402 [==============================] - 38s 27ms/step - loss: 8.7186e-04\n"
          ]
        },
        {
          "output_type": "execute_result",
          "data": {
            "text/plain": [
              "<keras.callbacks.History at 0x7fb24c91c100>"
            ]
          },
          "metadata": {},
          "execution_count": 68
        }
      ]
    },
    {
      "cell_type": "code",
      "metadata": {
        "id": "T-XnOmQ8h2qF"
      },
      "source": [
        "test_data = scaled_data[training_data_len - 60:,:]\n",
        "x_test = []\n",
        "y_test = dataset[training_data_len:,:]\n",
        "for y in range(60,len(test_data)):\n",
        "  x_test.append(test_data[y-60:y,0])\n",
        "  "
      ],
      "execution_count": 69,
      "outputs": []
    },
    {
      "cell_type": "code",
      "metadata": {
        "id": "2Sd884ddiqcE"
      },
      "source": [
        "x_test = np.array(x_test)"
      ],
      "execution_count": 70,
      "outputs": []
    },
    {
      "cell_type": "code",
      "metadata": {
        "id": "A1GMsmjBivs1"
      },
      "source": [
        "x_test = np.reshape(x_test,(x_test.shape[0],x_test.shape[1],1))"
      ],
      "execution_count": 71,
      "outputs": []
    },
    {
      "cell_type": "code",
      "metadata": {
        "id": "QuU3vIMSjML1",
        "colab": {
          "base_uri": "https://localhost:8080/"
        },
        "outputId": "324223ba-56a5-49c7-a5fa-0dcd338c30cd"
      },
      "source": [
        "predictions = model.predict(x_test)\n",
        "predictions = scaler.inverse_transform(predictions)"
      ],
      "execution_count": 72,
      "outputs": [
        {
          "output_type": "stream",
          "name": "stdout",
          "text": [
            "12/12 [==============================] - 1s 16ms/step\n"
          ]
        }
      ]
    },
    {
      "cell_type": "code",
      "metadata": {
        "colab": {
          "base_uri": "https://localhost:8080/"
        },
        "id": "0SR33yrcjc1v",
        "outputId": "5d6648f3-799f-45d9-d328-caf5a49d137a"
      },
      "source": [
        "rmse = np.sqrt(np.mean(predictions - y_test)**2)\n",
        "rmse"
      ],
      "execution_count": 73,
      "outputs": [
        {
          "output_type": "execute_result",
          "data": {
            "text/plain": [
              "45.579912832424554"
            ]
          },
          "metadata": {},
          "execution_count": 73
        }
      ]
    },
    {
      "cell_type": "code",
      "metadata": {
        "colab": {
          "base_uri": "https://localhost:8080/",
          "height": 923
        },
        "id": "JXfxBZH0juq7",
        "outputId": "6f77fd8e-0dee-4dd4-bd86-3db99463963b"
      },
      "source": [
        "train = data[:training_data_len]\n",
        "valid = data[training_data_len:]\n",
        "valid['Tahminler'] = predictions\n",
        "\n",
        "plt.figure(figsize=(16,8))\n",
        "plt.title('Model')\n",
        "plt.xlabel('Tarih',fontsize=18)\n",
        "plt.ylabel('Kapanış Fiyatları',fontsize=18)\n",
        "plt.plot(train['Close'])\n",
        "plt.plot(valid[['Close','Tahminler']])\n",
        "plt.legend(['Eğitilen Alan','Değer','Tahminler'])\n",
        "plt.show()\n",
        "print(valid)"
      ],
      "execution_count": 74,
      "outputs": [
        {
          "output_type": "stream",
          "name": "stderr",
          "text": [
            "<ipython-input-74-87bcbd9c370a>:3: SettingWithCopyWarning: \n",
            "A value is trying to be set on a copy of a slice from a DataFrame.\n",
            "Try using .loc[row_indexer,col_indexer] = value instead\n",
            "\n",
            "See the caveats in the documentation: https://pandas.pydata.org/pandas-docs/stable/user_guide/indexing.html#returning-a-view-versus-a-copy\n",
            "  valid['Tahminler'] = predictions\n"
          ]
        },
        {
          "output_type": "display_data",
          "data": {
            "text/plain": [
              "<Figure size 1152x576 with 1 Axes>"
            ],
            "image/png": "[encoded data removed]"
          },
          "metadata": {}
        },
        {
          "output_type": "stream",
          "name": "stdout",
          "text": [
            "                 Close   Tahminler\n",
            "Date                              \n",
            "2022-01-06  473.275604  539.453979\n",
            "2022-01-07  447.788483  530.942322\n",
            "2022-01-08  430.246155  511.254761\n",
            "2022-01-09  438.803070  491.938629\n",
            "2022-01-10  424.933777  495.184998\n",
            "...                ...         ...\n",
            "2023-01-01  244.136978  281.886444\n",
            "2023-01-02  245.535904  280.372650\n",
            "2023-01-03  246.133362  280.635590\n",
            "2023-01-04  259.119690  281.452576\n",
            "2023-01-05  257.186127  291.428497\n",
            "\n",
            "[365 rows x 2 columns]\n"
          ]
        }
      ]
    }
  ]
}